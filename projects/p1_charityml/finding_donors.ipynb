{
 "cells": [
  {
   "cell_type": "markdown",
   "metadata": {},
   "source": [
    "# Data Scientist Nanodegree\n",
    "## Supervised Learning\n",
    "## Project: Finding Donors for *CharityML*"
   ]
  },
  {
   "cell_type": "markdown",
   "metadata": {},
   "source": [
    "Welcome to the first project of the Data Scientist Nanodegree! In this notebook, some template code has already been provided for you, and it will be your job to implement the additional functionality necessary to successfully complete this project. Sections that begin with **'Implementation'** in the header indicate that the following block of code will require additional functionality which you must provide. Instructions will be provided for each section and the specifics of the implementation are marked in the code block with a `'TODO'` statement. Please be sure to read the instructions carefully!\n",
    "\n",
    "In addition to implementing code, there will be questions that you must answer which relate to the project and your implementation. Each section where you will answer a question is preceded by a **'Question X'** header. Carefully read each question and provide thorough answers in the following text boxes that begin with **'Answer:'**. Your project submission will be evaluated based on your answers to each of the questions and the implementation you provide.  \n",
    "\n",
    ">**Note:** Please specify WHICH VERSION OF PYTHON you are using when submitting this notebook. Code and Markdown cells can be executed using the **Shift + Enter** keyboard shortcut. In addition, Markdown cells can be edited by typically double-clicking the cell to enter edit mode."
   ]
  },
  {
   "cell_type": "markdown",
   "metadata": {},
   "source": [
    "## Getting Started\n",
    "\n",
    "In this project, you will employ several supervised algorithms of your choice to accurately model individuals' income using data collected from the 1994 U.S. Census. You will then choose the best candidate algorithm from preliminary results and further optimize this algorithm to best model the data. Your goal with this implementation is to construct a model that accurately predicts whether an individual makes more than $50,000. This sort of task can arise in a non-profit setting, where organizations survive on donations.  Understanding an individual's income can help a non-profit better understand how large of a donation to request, or whether or not they should reach out to begin with.  While it can be difficult to determine an individual's general income bracket directly from public sources, we can (as we will see) infer this value from other publically available features. \n",
    "\n",
    "The dataset for this project originates from the [UCI Machine Learning Repository](https://archive.ics.uci.edu/ml/datasets/Census+Income). The datset was donated by Ron Kohavi and Barry Becker, after being published in the article _\"Scaling Up the Accuracy of Naive-Bayes Classifiers: A Decision-Tree Hybrid\"_. You can find the article by Ron Kohavi [online](https://www.aaai.org/Papers/KDD/1996/KDD96-033.pdf). The data we investigate here consists of small changes to the original dataset, such as removing the `'fnlwgt'` feature and records with missing or ill-formatted entries."
   ]
  },
  {
   "cell_type": "markdown",
   "metadata": {},
   "source": [
    "----\n",
    "## Exploring the Data\n",
    "Run the code cell below to load necessary Python libraries and load the census data. Note that the last column from this dataset, `'income'`, will be our target label (whether an individual makes more than, or at most, $50,000 annually). All other columns are features about each individual in the census database."
   ]
  },
  {
   "cell_type": "code",
   "execution_count": 4,
   "metadata": {},
   "outputs": [
    {
     "data": {
      "text/html": [
       "<div>\n",
       "<style scoped>\n",
       "    .dataframe tbody tr th:only-of-type {\n",
       "        vertical-align: middle;\n",
       "    }\n",
       "\n",
       "    .dataframe tbody tr th {\n",
       "        vertical-align: top;\n",
       "    }\n",
       "\n",
       "    .dataframe thead th {\n",
       "        text-align: right;\n",
       "    }\n",
       "</style>\n",
       "<table border=\"1\" class=\"dataframe\">\n",
       "  <thead>\n",
       "    <tr style=\"text-align: right;\">\n",
       "      <th></th>\n",
       "      <th>age</th>\n",
       "      <th>workclass</th>\n",
       "      <th>education_level</th>\n",
       "      <th>education-num</th>\n",
       "      <th>marital-status</th>\n",
       "      <th>occupation</th>\n",
       "      <th>relationship</th>\n",
       "      <th>race</th>\n",
       "      <th>sex</th>\n",
       "      <th>capital-gain</th>\n",
       "      <th>capital-loss</th>\n",
       "      <th>hours-per-week</th>\n",
       "      <th>native-country</th>\n",
       "      <th>income</th>\n",
       "    </tr>\n",
       "  </thead>\n",
       "  <tbody>\n",
       "    <tr>\n",
       "      <th>0</th>\n",
       "      <td>39</td>\n",
       "      <td>State-gov</td>\n",
       "      <td>Bachelors</td>\n",
       "      <td>13.0</td>\n",
       "      <td>Never-married</td>\n",
       "      <td>Adm-clerical</td>\n",
       "      <td>Not-in-family</td>\n",
       "      <td>White</td>\n",
       "      <td>Male</td>\n",
       "      <td>2174.0</td>\n",
       "      <td>0.0</td>\n",
       "      <td>40.0</td>\n",
       "      <td>United-States</td>\n",
       "      <td>&lt;=50K</td>\n",
       "    </tr>\n",
       "  </tbody>\n",
       "</table>\n",
       "</div>"
      ],
      "text/plain": [
       "   age   workclass education_level  education-num  marital-status  \\\n",
       "0   39   State-gov       Bachelors           13.0   Never-married   \n",
       "\n",
       "      occupation    relationship    race    sex  capital-gain  capital-loss  \\\n",
       "0   Adm-clerical   Not-in-family   White   Male        2174.0           0.0   \n",
       "\n",
       "   hours-per-week  native-country income  \n",
       "0            40.0   United-States  <=50K  "
      ]
     },
     "metadata": {},
     "output_type": "display_data"
    }
   ],
   "source": [
    "# Import libraries necessary for this project\n",
    "import numpy as np\n",
    "import pandas as pd\n",
    "from time import time\n",
    "from IPython.display import display # Allows the use of display() for DataFrames\n",
    "\n",
    "# Import supplementary visualization code visuals.py\n",
    "import visuals as vs\n",
    "\n",
    "# Pretty display for notebooks\n",
    "%matplotlib inline\n",
    "\n",
    "# Load the Census dataset\n",
    "data = pd.read_csv(\"census.csv\")\n",
    "\n",
    "# Success - Display the first record\n",
    "display(data.head(n=1))"
   ]
  },
  {
   "cell_type": "markdown",
   "metadata": {},
   "source": [
    "### Implementation: Data Exploration\n",
    "A cursory investigation of the dataset will determine how many individuals fit into either group, and will tell us about the percentage of these individuals making more than \\$50,000. In the code cell below, you will need to compute the following:\n",
    "- The total number of records, `'n_records'`\n",
    "- The number of individuals making more than \\$50,000 annually, `'n_greater_50k'`.\n",
    "- The number of individuals making at most \\$50,000 annually, `'n_at_most_50k'`.\n",
    "- The percentage of individuals making more than \\$50,000 annually, `'greater_percent'`.\n",
    "\n",
    "** HINT: ** You may need to look at the table above to understand how the `'income'` entries are formatted. "
   ]
  },
  {
   "cell_type": "code",
   "execution_count": 7,
   "metadata": {},
   "outputs": [
    {
     "name": "stdout",
     "output_type": "stream",
     "text": [
      "Total number of records: 45222\n",
      "Individuals making more than $50,000: 11208\n",
      "Individuals making at most $50,000: 34014\n",
      "Percentage of individuals making more than $50,000: 24.78439697492371%\n"
     ]
    }
   ],
   "source": [
    "# TODO: Total number of records\n",
    "n_records = np.shape(data)[0]\n",
    "\n",
    "# TODO: Number of records where individual's income is more than $50,000\n",
    "n_greater_50k = data['income'].value_counts()[1]\n",
    "\n",
    "# TODO: Number of records where individual's income is at most $50,000\n",
    "n_at_most_50k = data['income'].value_counts()[0]\n",
    "\n",
    "# TODO: Percentage of individuals whose income is more than $50,000\n",
    "greater_percent = data['income'].value_counts(normalize = True)[1] * 100\n",
    "\n",
    "# Print the results\n",
    "print(\"Total number of records: {}\".format(n_records))\n",
    "print(\"Individuals making more than $50,000: {}\".format(n_greater_50k))\n",
    "print(\"Individuals making at most $50,000: {}\".format(n_at_most_50k))\n",
    "print(\"Percentage of individuals making more than $50,000: {}%\".format(greater_percent))"
   ]
  },
  {
   "cell_type": "code",
   "execution_count": 8,
   "metadata": {},
   "outputs": [
    {
     "data": {
      "text/plain": [
       "<seaborn.axisgrid.FacetGrid at 0x284336ebac0>"
      ]
     },
     "execution_count": 8,
     "metadata": {},
     "output_type": "execute_result"
    },
    {
     "data": {
      "image/png": "[encoded data removed]",
      "text/plain": [
       "<Figure size 435.25x360 with 1 Axes>"
      ]
     },
     "metadata": {
      "needs_background": "light"
     },
     "output_type": "display_data"
    }
   ],
   "source": [
    "import seaborn as sns\n",
    "sns.catplot(x = 'income', y ='capital-gain', hue='sex', data=data, kind='bar')"
   ]
  },
  {
   "cell_type": "markdown",
   "metadata": {},
   "source": [
    "** Featureset Exploration **\n",
    "\n",
    "* **age**: continuous. \n",
    "* **workclass**: Private, Self-emp-not-inc, Self-emp-inc, Federal-gov, Local-gov, State-gov, Without-pay, Never-worked. \n",
    "* **education**: Bachelors, Some-college, 11th, HS-grad, Prof-school, Assoc-acdm, Assoc-voc, 9th, 7th-8th, 12th, Masters, 1st-4th, 10th, Doctorate, 5th-6th, Preschool. \n",
    "* **education-num**: continuous. \n",
    "* **marital-status**: Married-civ-spouse, Divorced, Never-married, Separated, Widowed, Married-spouse-absent, Married-AF-spouse. \n",
    "* **occupation**: Tech-support, Craft-repair, Other-service, Sales, Exec-managerial, Prof-specialty, Handlers-cleaners, Machine-op-inspct, Adm-clerical, Farming-fishing, Transport-moving, Priv-house-serv, Protective-serv, Armed-Forces. \n",
    "* **relationship**: Wife, Own-child, Husband, Not-in-family, Other-relative, Unmarried. \n",
    "* **race**: Black, White, Asian-Pac-Islander, Amer-Indian-Eskimo, Other. \n",
    "* **sex**: Female, Male. \n",
    "* **capital-gain**: continuous. \n",
    "* **capital-loss**: continuous. \n",
    "* **hours-per-week**: continuous. \n",
    "* **native-country**: United-States, Cambodia, England, Puerto-Rico, Canada, Germany, Outlying-US(Guam-USVI-etc), India, Japan, Greece, South, China, Cuba, Iran, Honduras, Philippines, Italy, Poland, Jamaica, Vietnam, Mexico, Portugal, Ireland, France, Dominican-Republic, Laos, Ecuador, Taiwan, Haiti, Columbia, Hungary, Guatemala, Nicaragua, Scotland, Thailand, Yugoslavia, El-Salvador, Trinadad&Tobago, Peru, Hong, Holand-Netherlands."
   ]
  },
  {
   "cell_type": "markdown",
   "metadata": {},
   "source": [
    "----\n",
    "## Preparing the Data\n",
    "Before data can be used as input for machine learning algorithms, it often must be cleaned, formatted, and restructured — this is typically known as **preprocessing**. Fortunately, for this dataset, there are no invalid or missing entries we must deal with, however, there are some qualities about certain features that must be adjusted. This preprocessing can help tremendously with the outcome and predictive power of nearly all learning algorithms."
   ]
  },
  {
   "cell_type": "markdown",
   "metadata": {},
   "source": [
    "### Transforming Skewed Continuous Features\n",
    "A dataset may sometimes contain at least one feature whose values tend to lie near a single number, but will also have a non-trivial number of vastly larger or smaller values than that single number.  Algorithms can be sensitive to such distributions of values and can underperform if the range is not properly normalized. With the census dataset two features fit this description: '`capital-gain'` and `'capital-loss'`. \n",
    "\n",
    "Run the code cell below to plot a histogram of these two features. Note the range of the values present and how they are distributed."
   ]
  },
  {
   "cell_type": "code",
   "execution_count": 9,
   "metadata": {},
   "outputs": [
    {
     "name": "stderr",
     "output_type": "stream",
     "text": [
      "C:\\Users\\Edison.Tan\\Desktop\\Github\\projects\\p1_charityml\\visuals.py:48: UserWarning: Matplotlib is currently using module://ipykernel.pylab.backend_inline, which is a non-GUI backend, so cannot show the figure.\n",
      "  fig.show()\n"
     ]
    },
    {
     "data": {
      "image/png": "[encoded data removed]",
      "text/plain": [
       "<Figure size 792x360 with 2 Axes>"
      ]
     },
     "metadata": {
      "needs_background": "light"
     },
     "output_type": "display_data"
    }
   ],
   "source": [
    "# Split the data into features and target label\n",
    "income_raw = data['income']\n",
    "features_raw = data.drop('income', axis = 1)\n",
    "\n",
    "# Visualize skewed continuous features of original data\n",
    "vs.distribution(data)"
   ]
  },
  {
   "cell_type": "markdown",
   "metadata": {},
   "source": [
    "For highly-skewed feature distributions such as `'capital-gain'` and `'capital-loss'`, it is common practice to apply a <a href=\"https://en.wikipedia.org/wiki/Data_transformation_(statistics)\">logarithmic transformation</a> on the data so that the very large and very small values do not negatively affect the performance of a learning algorithm. Using a logarithmic transformation significantly reduces the range of values caused by outliers. Care must be taken when applying this transformation however: The logarithm of `0` is undefined, so we must translate the values by a small amount above `0` to apply the the logarithm successfully.\n",
    "\n",
    "Run the code cell below to perform a transformation on the data and visualize the results. Again, note the range of values and how they are distributed. "
   ]
  },
  {
   "cell_type": "code",
   "execution_count": 10,
   "metadata": {},
   "outputs": [
    {
     "data": {
      "image/png": "[encoded data removed]",
      "text/plain": [
       "<Figure size 792x360 with 2 Axes>"
      ]
     },
     "metadata": {
      "needs_background": "light"
     },
     "output_type": "display_data"
    }
   ],
   "source": [
    "# Log-transform the skewed features\n",
    "skewed = ['capital-gain', 'capital-loss']\n",
    "features_log_transformed = pd.DataFrame(data = features_raw)\n",
    "features_log_transformed[skewed] = features_raw[skewed].apply(lambda x: np.log(x + 1))\n",
    "\n",
    "# Visualize the new log distributions\n",
    "vs.distribution(features_log_transformed, transformed = True)"
   ]
  },
  {
   "cell_type": "markdown",
   "metadata": {},
   "source": [
    "### Normalizing Numerical Features\n",
    "In addition to performing transformations on features that are highly skewed, it is often good practice to perform some type of scaling on numerical features. Applying a scaling to the data does not change the shape of each feature's distribution (such as `'capital-gain'` or `'capital-loss'` above); however, normalization ensures that each feature is treated equally when applying supervised learners. Note that once scaling is applied, observing the data in its raw form will no longer have the same original meaning, as exampled below.\n",
    "\n",
    "Run the code cell below to normalize each numerical feature. We will use [`sklearn.preprocessing.MinMaxScaler`](http://scikit-learn.org/stable/modules/generated/sklearn.preprocessing.MinMaxScaler.html) for this."
   ]
  },
  {
   "cell_type": "code",
   "execution_count": 11,
   "metadata": {},
   "outputs": [
    {
     "data": {
      "text/html": [
       "<div>\n",
       "<style scoped>\n",
       "    .dataframe tbody tr th:only-of-type {\n",
       "        vertical-align: middle;\n",
       "    }\n",
       "\n",
       "    .dataframe tbody tr th {\n",
       "        vertical-align: top;\n",
       "    }\n",
       "\n",
       "    .dataframe thead th {\n",
       "        text-align: right;\n",
       "    }\n",
       "</style>\n",
       "<table border=\"1\" class=\"dataframe\">\n",
       "  <thead>\n",
       "    <tr style=\"text-align: right;\">\n",
       "      <th></th>\n",
       "      <th>age</th>\n",
       "      <th>workclass</th>\n",
       "      <th>education_level</th>\n",
       "      <th>education-num</th>\n",
       "      <th>marital-status</th>\n",
       "      <th>occupation</th>\n",
       "      <th>relationship</th>\n",
       "      <th>race</th>\n",
       "      <th>sex</th>\n",
       "      <th>capital-gain</th>\n",
       "      <th>capital-loss</th>\n",
       "      <th>hours-per-week</th>\n",
       "      <th>native-country</th>\n",
       "    </tr>\n",
       "  </thead>\n",
       "  <tbody>\n",
       "    <tr>\n",
       "      <th>0</th>\n",
       "      <td>0.301370</td>\n",
       "      <td>State-gov</td>\n",
       "      <td>Bachelors</td>\n",
       "      <td>0.800000</td>\n",
       "      <td>Never-married</td>\n",
       "      <td>Adm-clerical</td>\n",
       "      <td>Not-in-family</td>\n",
       "      <td>White</td>\n",
       "      <td>Male</td>\n",
       "      <td>0.667492</td>\n",
       "      <td>0.0</td>\n",
       "      <td>0.397959</td>\n",
       "      <td>United-States</td>\n",
       "    </tr>\n",
       "    <tr>\n",
       "      <th>1</th>\n",
       "      <td>0.452055</td>\n",
       "      <td>Self-emp-not-inc</td>\n",
       "      <td>Bachelors</td>\n",
       "      <td>0.800000</td>\n",
       "      <td>Married-civ-spouse</td>\n",
       "      <td>Exec-managerial</td>\n",
       "      <td>Husband</td>\n",
       "      <td>White</td>\n",
       "      <td>Male</td>\n",
       "      <td>0.000000</td>\n",
       "      <td>0.0</td>\n",
       "      <td>0.122449</td>\n",
       "      <td>United-States</td>\n",
       "    </tr>\n",
       "    <tr>\n",
       "      <th>2</th>\n",
       "      <td>0.287671</td>\n",
       "      <td>Private</td>\n",
       "      <td>HS-grad</td>\n",
       "      <td>0.533333</td>\n",
       "      <td>Divorced</td>\n",
       "      <td>Handlers-cleaners</td>\n",
       "      <td>Not-in-family</td>\n",
       "      <td>White</td>\n",
       "      <td>Male</td>\n",
       "      <td>0.000000</td>\n",
       "      <td>0.0</td>\n",
       "      <td>0.397959</td>\n",
       "      <td>United-States</td>\n",
       "    </tr>\n",
       "    <tr>\n",
       "      <th>3</th>\n",
       "      <td>0.493151</td>\n",
       "      <td>Private</td>\n",
       "      <td>11th</td>\n",
       "      <td>0.400000</td>\n",
       "      <td>Married-civ-spouse</td>\n",
       "      <td>Handlers-cleaners</td>\n",
       "      <td>Husband</td>\n",
       "      <td>Black</td>\n",
       "      <td>Male</td>\n",
       "      <td>0.000000</td>\n",
       "      <td>0.0</td>\n",
       "      <td>0.397959</td>\n",
       "      <td>United-States</td>\n",
       "    </tr>\n",
       "    <tr>\n",
       "      <th>4</th>\n",
       "      <td>0.150685</td>\n",
       "      <td>Private</td>\n",
       "      <td>Bachelors</td>\n",
       "      <td>0.800000</td>\n",
       "      <td>Married-civ-spouse</td>\n",
       "      <td>Prof-specialty</td>\n",
       "      <td>Wife</td>\n",
       "      <td>Black</td>\n",
       "      <td>Female</td>\n",
       "      <td>0.000000</td>\n",
       "      <td>0.0</td>\n",
       "      <td>0.397959</td>\n",
       "      <td>Cuba</td>\n",
       "    </tr>\n",
       "  </tbody>\n",
       "</table>\n",
       "</div>"
      ],
      "text/plain": [
       "        age          workclass education_level  education-num  \\\n",
       "0  0.301370          State-gov       Bachelors       0.800000   \n",
       "1  0.452055   Self-emp-not-inc       Bachelors       0.800000   \n",
       "2  0.287671            Private         HS-grad       0.533333   \n",
       "3  0.493151            Private            11th       0.400000   \n",
       "4  0.150685            Private       Bachelors       0.800000   \n",
       "\n",
       "        marital-status          occupation    relationship    race      sex  \\\n",
       "0        Never-married        Adm-clerical   Not-in-family   White     Male   \n",
       "1   Married-civ-spouse     Exec-managerial         Husband   White     Male   \n",
       "2             Divorced   Handlers-cleaners   Not-in-family   White     Male   \n",
       "3   Married-civ-spouse   Handlers-cleaners         Husband   Black     Male   \n",
       "4   Married-civ-spouse      Prof-specialty            Wife   Black   Female   \n",
       "\n",
       "   capital-gain  capital-loss  hours-per-week  native-country  \n",
       "0      0.667492           0.0        0.397959   United-States  \n",
       "1      0.000000           0.0        0.122449   United-States  \n",
       "2      0.000000           0.0        0.397959   United-States  \n",
       "3      0.000000           0.0        0.397959   United-States  \n",
       "4      0.000000           0.0        0.397959            Cuba  "
      ]
     },
     "metadata": {},
     "output_type": "display_data"
    }
   ],
   "source": [
    "# Import sklearn.preprocessing.StandardScaler\n",
    "from sklearn.preprocessing import MinMaxScaler\n",
    "\n",
    "# Initialize a scaler, then apply it to the features\n",
    "scaler = MinMaxScaler() # default=(0, 1)\n",
    "numerical = ['age', 'education-num', 'capital-gain', 'capital-loss', 'hours-per-week']\n",
    "\n",
    "features_log_minmax_transform = pd.DataFrame(data = features_log_transformed)\n",
    "features_log_minmax_transform[numerical] = scaler.fit_transform(features_log_transformed[numerical])\n",
    "\n",
    "# Show an example of a record with scaling applied\n",
    "display(features_log_minmax_transform.head(n = 5))"
   ]
  },
  {
   "cell_type": "markdown",
   "metadata": {},
   "source": [
    "### Implementation: Data Preprocessing\n",
    "\n",
    "From the table in **Exploring the Data** above, we can see there are several features for each record that are non-numeric. Typically, learning algorithms expect input to be numeric, which requires that non-numeric features (called *categorical variables*) be converted. One popular way to convert categorical variables is by using the **one-hot encoding** scheme. One-hot encoding creates a _\"dummy\"_ variable for each possible category of each non-numeric feature. For example, assume `someFeature` has three possible entries: `A`, `B`, or `C`. We then encode this feature into `someFeature_A`, `someFeature_B` and `someFeature_C`.\n",
    "\n",
    "|   | someFeature |                    | someFeature_A | someFeature_B | someFeature_C |\n",
    "| :-: | :-: |                            | :-: | :-: | :-: |\n",
    "| 0 |  B  |  | 0 | 1 | 0 |\n",
    "| 1 |  C  | ----> one-hot encode ----> | 0 | 0 | 1 |\n",
    "| 2 |  A  |  | 1 | 0 | 0 |\n",
    "\n",
    "Additionally, as with the non-numeric features, we need to convert the non-numeric target label, `'income'` to numerical values for the learning algorithm to work. Since there are only two possible categories for this label (\"<=50K\" and \">50K\"), we can avoid using one-hot encoding and simply encode these two categories as `0` and `1`, respectively. In code cell below, you will need to implement the following:\n",
    " - Use [`pandas.get_dummies()`](http://pandas.pydata.org/pandas-docs/stable/generated/pandas.get_dummies.html?highlight=get_dummies#pandas.get_dummies) to perform one-hot encoding on the `'features_log_minmax_transform'` data.\n",
    " - Convert the target label `'income_raw'` to numerical entries.\n",
    "   - Set records with \"<=50K\" to `0` and records with \">50K\" to `1`."
   ]
  },
  {
   "cell_type": "code",
   "execution_count": 12,
   "metadata": {
    "scrolled": true
   },
   "outputs": [
    {
     "name": "stdout",
     "output_type": "stream",
     "text": [
      "103 total features after one-hot encoding.\n",
      "['age', 'education-num', 'capital-gain', 'capital-loss', 'hours-per-week', 'workclass_ Federal-gov', 'workclass_ Local-gov', 'workclass_ Private', 'workclass_ Self-emp-inc', 'workclass_ Self-emp-not-inc', 'workclass_ State-gov', 'workclass_ Without-pay', 'education_level_ 10th', 'education_level_ 11th', 'education_level_ 12th', 'education_level_ 1st-4th', 'education_level_ 5th-6th', 'education_level_ 7th-8th', 'education_level_ 9th', 'education_level_ Assoc-acdm', 'education_level_ Assoc-voc', 'education_level_ Bachelors', 'education_level_ Doctorate', 'education_level_ HS-grad', 'education_level_ Masters', 'education_level_ Preschool', 'education_level_ Prof-school', 'education_level_ Some-college', 'marital-status_ Divorced', 'marital-status_ Married-AF-spouse', 'marital-status_ Married-civ-spouse', 'marital-status_ Married-spouse-absent', 'marital-status_ Never-married', 'marital-status_ Separated', 'marital-status_ Widowed', 'occupation_ Adm-clerical', 'occupation_ Armed-Forces', 'occupation_ Craft-repair', 'occupation_ Exec-managerial', 'occupation_ Farming-fishing', 'occupation_ Handlers-cleaners', 'occupation_ Machine-op-inspct', 'occupation_ Other-service', 'occupation_ Priv-house-serv', 'occupation_ Prof-specialty', 'occupation_ Protective-serv', 'occupation_ Sales', 'occupation_ Tech-support', 'occupation_ Transport-moving', 'relationship_ Husband', 'relationship_ Not-in-family', 'relationship_ Other-relative', 'relationship_ Own-child', 'relationship_ Unmarried', 'relationship_ Wife', 'race_ Amer-Indian-Eskimo', 'race_ Asian-Pac-Islander', 'race_ Black', 'race_ Other', 'race_ White', 'sex_ Female', 'sex_ Male', 'native-country_ Cambodia', 'native-country_ Canada', 'native-country_ China', 'native-country_ Columbia', 'native-country_ Cuba', 'native-country_ Dominican-Republic', 'native-country_ Ecuador', 'native-country_ El-Salvador', 'native-country_ England', 'native-country_ France', 'native-country_ Germany', 'native-country_ Greece', 'native-country_ Guatemala', 'native-country_ Haiti', 'native-country_ Holand-Netherlands', 'native-country_ Honduras', 'native-country_ Hong', 'native-country_ Hungary', 'native-country_ India', 'native-country_ Iran', 'native-country_ Ireland', 'native-country_ Italy', 'native-country_ Jamaica', 'native-country_ Japan', 'native-country_ Laos', 'native-country_ Mexico', 'native-country_ Nicaragua', 'native-country_ Outlying-US(Guam-USVI-etc)', 'native-country_ Peru', 'native-country_ Philippines', 'native-country_ Poland', 'native-country_ Portugal', 'native-country_ Puerto-Rico', 'native-country_ Scotland', 'native-country_ South', 'native-country_ Taiwan', 'native-country_ Thailand', 'native-country_ Trinadad&Tobago', 'native-country_ United-States', 'native-country_ Vietnam', 'native-country_ Yugoslavia']\n"
     ]
    }
   ],
   "source": [
    "# TODO: One-hot encode the 'features_log_minmax_transform' data using pandas.get_dummies()\n",
    "features_final = pd.get_dummies(features_log_minmax_transform)\n",
    "\n",
    "# TODO: Encode the 'income_raw' data to numerical values\n",
    "income = income_raw.map({'<=50K':0,'>50K':1})\n",
    "\n",
    "# from sklearn.preprocessing import LabelEncoder\n",
    "# le = LabelEncoder()\n",
    "# income = le.fit_transform(income_raw)\n",
    "# '''print label encoded variable'''\n",
    "# print (income)\n",
    "# '''then we can reverse it with if we want to'''\n",
    "# print (le.inverse_transform(income))\n",
    "\n",
    "\n",
    "# Print the number of features after one-hot encoding\n",
    "encoded = list(features_final.columns)\n",
    "print(\"{} total features after one-hot encoding.\".format(len(encoded)))\n",
    "\n",
    "# Uncomment the following line to see the encoded feature names\n",
    "print(encoded)"
   ]
  },
  {
   "cell_type": "markdown",
   "metadata": {},
   "source": [
    "### Shuffle and Split Data\n",
    "Now all _categorical variables_ have been converted into numerical features, and all numerical features have been normalized. As always, we will now split the data (both features and their labels) into training and test sets. 80% of the data will be used for training and 20% for testing.\n",
    "\n",
    "Run the code cell below to perform this split."
   ]
  },
  {
   "cell_type": "code",
   "execution_count": 13,
   "metadata": {},
   "outputs": [
    {
     "name": "stdout",
     "output_type": "stream",
     "text": [
      "Training set has 36177 samples.\n",
      "Testing set has 9045 samples.\n"
     ]
    }
   ],
   "source": [
    "# Import train_test_split\n",
    "from sklearn.model_selection import train_test_split\n",
    "\n",
    "# Split the 'features' and 'income' data into training and testing sets\n",
    "X_train, X_test, y_train, y_test = train_test_split(features_final, \n",
    "                                                    income, \n",
    "                                                    test_size = 0.2, \n",
    "                                                    random_state = 0)\n",
    "\n",
    "# Show the results of the split\n",
    "print(\"Training set has {} samples.\".format(X_train.shape[0]))\n",
    "print(\"Testing set has {} samples.\".format(X_test.shape[0]))"
   ]
  },
  {
   "cell_type": "markdown",
   "metadata": {},
   "source": [
    "----\n",
    "## Evaluating Model Performance\n",
    "In this section, we will investigate four different algorithms, and determine which is best at modeling the data. Three of these algorithms will be supervised learners of your choice, and the fourth algorithm is known as a *naive predictor*."
   ]
  },
  {
   "cell_type": "markdown",
   "metadata": {},
   "source": [
    "### Metrics and the Naive Predictor\n",
    "*CharityML*, equipped with their research, knows individuals that make more than \\$50,000 are most likely to donate to their charity. Because of this, *CharityML* is particularly interested in predicting who makes more than \\$50,000 accurately. It would seem that using **accuracy** as a metric for evaluating a particular model's performace would be appropriate. Additionally, identifying someone that *does not* make more than \\$50,000 as someone who does would be detrimental to *CharityML*, since they are looking to find individuals willing to donate. Therefore, a model's ability to precisely predict those that make more than \\$50,000 is *more important* than the model's ability to **recall** those individuals. We can use **F-beta score** as a metric that considers both precision and recall:\n",
    "\n",
    "$$ F_{\\beta} = (1 + \\beta^2) \\cdot \\frac{precision \\cdot recall}{\\left( \\beta^2 \\cdot precision \\right) + recall} $$\n",
    "\n",
    "In particular, when $\\beta = 0.5$, more emphasis is placed on precision. This is called the **F$_{0.5}$ score** (or F-score for simplicity).\n",
    "\n",
    "Looking at the distribution of classes (those who make at most \\$50,000, and those who make more), it's clear most individuals do not make more than \\$50,000. This can greatly affect **accuracy**, since we could simply say *\"this person does not make more than \\$50,000\"* and generally be right, without ever looking at the data! Making such a statement would be called **naive**, since we have not considered any information to substantiate the claim. It is always important to consider the *naive prediction* for your data, to help establish a benchmark for whether a model is performing well. That been said, using that prediction would be pointless: If we predicted all people made less than \\$50,000, *CharityML* would identify no one as donors. \n",
    "\n",
    "\n",
    "#### Note: Recap of accuracy, precision, recall\n",
    "\n",
    "** Accuracy ** measures how often the classifier makes the correct prediction. It’s the ratio of the number of correct predictions to the total number of predictions (the number of test data points).\n",
    "\n",
    "** Precision ** tells us what proportion of messages we classified as spam, actually were spam.\n",
    "It is a ratio of true positives(words classified as spam, and which are actually spam) to all positives(all words classified as spam, irrespective of whether that was the correct classificatio), in other words it is the ratio of\n",
    "\n",
    "`[True Positives/(True Positives + False Positives)]`\n",
    "\n",
    "** Recall(sensitivity)** tells us what proportion of messages that actually were spam were classified by us as spam.\n",
    "It is a ratio of true positives(words classified as spam, and which are actually spam) to all the words that were actually spam, in other words it is the ratio of\n",
    "\n",
    "`[True Positives/(True Positives + False Negatives)]`\n",
    "\n",
    "For classification problems that are skewed in their classification distributions like in our case, for example if we had a 100 text messages and only 2 were spam and the rest 98 weren't, accuracy by itself is not a very good metric. We could classify 90 messages as not spam(including the 2 that were spam but we classify them as not spam, hence they would be false negatives) and 10 as spam(all 10 false positives) and still get a reasonably good accuracy score. For such cases, precision and recall come in very handy. These two metrics can be combined to get the F1 score, which is weighted average(harmonic mean) of the precision and recall scores. This score can range from 0 to 1, with 1 being the best possible F1 score(we take the harmonic mean as we are dealing with ratios)."
   ]
  },
  {
   "cell_type": "markdown",
   "metadata": {},
   "source": [
    "### Question 1 - Naive Predictor Performace\n",
    "* If we chose a model that always predicted an individual made more than $50,000, what would  that model's accuracy and F-score be on this dataset? You must use the code cell below and assign your results to `'accuracy'` and `'fscore'` to be used later.\n",
    "\n",
    "** Please note ** that the the purpose of generating a naive predictor is simply to show what a base model without any intelligence would look like. In the real world, ideally your base model would be either the results of a previous model or could be based on a research paper upon which you are looking to improve. When there is no benchmark model set, getting a result better than random choice is a place you could start from.\n",
    "\n",
    "** HINT: ** \n",
    "\n",
    "* When we have a model that always predicts '1' (i.e. the individual makes more than 50k) then our model will have no True Negatives(TN) or False Negatives(FN) as we are not making any negative('0' value) predictions. Therefore our Accuracy in this case becomes the same as our Precision(True Positives/(True Positives + False Positives)) as every prediction that we have made with value '1' that should have '0' becomes a False Positive; therefore our denominator in this case is the total number of records we have in total. \n",
    "* Our Recall score(True Positives/(True Positives + False Negatives)) in this setting becomes 1 as we have no False Negatives."
   ]
  },
  {
   "cell_type": "code",
   "execution_count": 14,
   "metadata": {},
   "outputs": [
    {
     "name": "stdout",
     "output_type": "stream",
     "text": [
      "Naive Predictor: [Accuracy score: 0.2478, F-score: 0.2917]\n"
     ]
    }
   ],
   "source": [
    "\n",
    "TP = np.sum(income) # Counting the ones as this is the naive case. Note that 'income' is the 'income_raw' data encoded to numerical values done in the data preprocessing step.\n",
    "FP = income.count() - TP # Specific to the naive case\n",
    "\n",
    "TN = 0 # No predicted negatives in the naive case\n",
    "FN = 0 # No predicted negatives in the naive case\n",
    "\n",
    "# TODO: Calculate accuracy, precision and recall\n",
    "accuracy = (TP+TN)/(TP+FP+TN+FN)\n",
    "recall = TP/(TP+FN)\n",
    "precision = TP/(TP+FP)\n",
    "\n",
    "# TODO: Calculate F-score using the formula above for beta = 0.5 and correct values for precision and recall.\n",
    "fscore = (1 + 0.5**2) * (precision * recall)/ (0.5**2 * precision + recall)\n",
    "\n",
    "# Print the results \n",
    "print(\"Naive Predictor: [Accuracy score: {:.4f}, F-score: {:.4f}]\".format(accuracy, fscore))"
   ]
  },
  {
   "cell_type": "markdown",
   "metadata": {},
   "source": [
    "###  Supervised Learning Models\n",
    "**The following are some of the supervised learning models that are currently available in** [`scikit-learn`](http://scikit-learn.org/stable/supervised_learning.html) **that you may choose from:**\n",
    "- Gaussian Naive Bayes (GaussianNB)\n",
    "- Decision Trees\n",
    "- Ensemble Methods (Bagging, AdaBoost, Random Forest, Gradient Boosting)\n",
    "- K-Nearest Neighbors (KNeighbors)\n",
    "- Stochastic Gradient Descent Classifier (SGDC)\n",
    "- Support Vector Machines (SVM)\n",
    "- Logistic Regression"
   ]
  },
  {
   "cell_type": "markdown",
   "metadata": {},
   "source": [
    "### Question 2 - Model Application\n",
    "List three of the supervised learning models above that are appropriate for this problem that you will test on the census data. For each model chosen\n",
    "\n",
    "- Describe one real-world application in industry where the model can be applied. \n",
    "- What are the strengths of the model; when does it perform well?\n",
    "- What are the weaknesses of the model; when does it perform poorly?\n",
    "- What makes this model a good candidate for the problem, given what you know about the data?\n",
    "\n",
    "** HINT: **\n",
    "\n",
    "Structure your answer in the same format as above^, with 4 parts for each of the three models you pick. Please include references with your answer."
   ]
  },
  {
   "cell_type": "markdown",
   "metadata": {},
   "source": [
    "**Answer: **\n",
    "\n",
    "#### Random Forest\n",
    "1) Real world application: fraud detection for credit card  \n",
    "2) Strength: RF reduces overfitting as compared to decision tree. Combines multiple decision trees which can eventually lead to a more robust model, typically reduce the variance.   \n",
    "3) Weakness: RF take longer time to train as it requires more computational power, hard to interpret significance of the variable  \n",
    "4) Why is this good for the data: RF works well for both categorical and continuous values which we have in this dataset, further more it is not necessary to utilise the model to interpret significance of the variable. \n",
    "\n",
    "#### SVM\n",
    "1) Real world application: Handwriting recognition  \n",
    "2) Strength: SVM works well with unstructured data like text, images. Correct setting for Kernel can solve complex problems. It is more effective in high dimensional spaces  \n",
    "3) Weakness: SVM works poorly with large datasets, can be slow  \n",
    "4) Why is this good for the data: We do not have a large dataset but have about 103 features which indicates high dimensions  \n",
    "\n",
    "#### Adaboost\n",
    "1) Real world application: Customer churn prediction  \n",
    "2) Strength: fast and able to boost performance of weak learners such as decision trees and less parameter tweaking  \n",
    "3) Weakness: Adaboost is sensitive to outliers and noise in data requiring cleansing before using the data  \n",
    "4) Why is this good for the data: Current dataset is from a reputable source and have been sufficiently cleaned making this an ideal canditate for Adaboost.  \n",
    "\n"
   ]
  },
  {
   "cell_type": "markdown",
   "metadata": {},
   "source": [
    "### Implementation - Creating a Training and Predicting Pipeline\n",
    "To properly evaluate the performance of each model you've chosen, it's important that you create a training and predicting pipeline that allows you to quickly and effectively train models using various sizes of training data and perform predictions on the testing data. Your implementation here will be used in the following section.\n",
    "In the code block below, you will need to implement the following:\n",
    " - Import `fbeta_score` and `accuracy_score` from [`sklearn.metrics`](http://scikit-learn.org/stable/modules/classes.html#sklearn-metrics-metrics).\n",
    " - Fit the learner to the sampled training data and record the training time.\n",
    " - Perform predictions on the test data `X_test`, and also on the first 300 training points `X_train[:300]`.\n",
    "   - Record the total prediction time.\n",
    " - Calculate the accuracy score for both the training subset and testing set.\n",
    " - Calculate the F-score for both the training subset and testing set.\n",
    "   - Make sure that you set the `beta` parameter!"
   ]
  },
  {
   "cell_type": "code",
   "execution_count": 15,
   "metadata": {},
   "outputs": [],
   "source": [
    "# TODO: Import two metrics from sklearn - fbeta_score and accuracy_score\n",
    "from sklearn.metrics import fbeta_score, accuracy_score\n",
    "def train_predict(learner, sample_size, X_train, y_train, X_test, y_test): \n",
    "    '''\n",
    "    inputs:\n",
    "       - learner: the learning algorithm to be trained and predicted on\n",
    "       - sample_size: the size of samples (number) to be drawn from training set\n",
    "       - X_train: features training set\n",
    "       - y_train: income training set\n",
    "       - X_test: features testing set\n",
    "       - y_test: income testing set\n",
    "    '''\n",
    "    \n",
    "    results = {}\n",
    "    \n",
    "    # TODO: Fit the learner to the training data using slicing with 'sample_size' using .fit(training_features[:], training_labels[:])\n",
    "    start = time() # Get start time\n",
    "    learner = learner.fit(X_train[:sample_size],y_train[:sample_size])\n",
    "    end = time() # Get end time\n",
    "    \n",
    "    # TODO: Calculate the training time\n",
    "    results['train_time'] = end - start\n",
    "        \n",
    "    # TODO: Get the predictions on the test set(X_test),\n",
    "    #       then get predictions on the first 300 training samples(X_train) using .predict()\n",
    "    start = time() # Get start time\n",
    "    predictions_test = learner.predict(X_test)\n",
    "    predictions_train = learner.predict(X_train[:300])\n",
    "    end = time() # Get end time\n",
    "    \n",
    "    # TODO: Calculate the total prediction time\n",
    "    results['pred_time'] = end - start\n",
    "            \n",
    "    # TODO: Compute accuracy on the first 300 training samples which is y_train[:300]\n",
    "    results['acc_train'] = accuracy_score(y_train[:300],predictions_train)\n",
    "        \n",
    "    # TODO: Compute accuracy on test set using accuracy_score()\n",
    "    results['acc_test'] = accuracy_score(y_test,predictions_test)\n",
    "    \n",
    "    # TODO: Compute F-score on the the first 300 training samples using fbeta_score()\n",
    "    results['f_train'] = fbeta_score(y_train[:300],predictions_train[:300],beta=0.5)\n",
    "        \n",
    "    # TODO: Compute F-score on the test set which is y_test\n",
    "    results['f_test'] = fbeta_score(y_test,predictions_test,beta=0.5)\n",
    "       \n",
    "    # Success\n",
    "    print(\"{} trained on {} samples.\".format(learner.__class__.__name__, sample_size))\n",
    "        \n",
    "    # Return the results\n",
    "    return results"
   ]
  },
  {
   "cell_type": "markdown",
   "metadata": {},
   "source": [
    "### Implementation: Initial Model Evaluation\n",
    "In the code cell, you will need to implement the following:\n",
    "- Import the three supervised learning models you've discussed in the previous section.\n",
    "- Initialize the three models and store them in `'clf_A'`, `'clf_B'`, and `'clf_C'`.\n",
    "  - Use a `'random_state'` for each model you use, if provided.\n",
    "  - **Note:** Use the default settings for each model — you will tune one specific model in a later section.\n",
    "- Calculate the number of records equal to 1%, 10%, and 100% of the training data.\n",
    "  - Store those values in `'samples_1'`, `'samples_10'`, and `'samples_100'` respectively.\n",
    "\n",
    "**Note:** Depending on which algorithms you chose, the following implementation may take some time to run!"
   ]
  },
  {
   "cell_type": "code",
   "execution_count": 16,
   "metadata": {
    "scrolled": false
   },
   "outputs": [
    {
     "name": "stdout",
     "output_type": "stream",
     "text": [
      "RandomForestClassifier trained on 361 samples.\n",
      "RandomForestClassifier trained on 3617 samples.\n",
      "RandomForestClassifier trained on 36177 samples.\n",
      "SVC trained on 361 samples.\n",
      "SVC trained on 3617 samples.\n",
      "SVC trained on 36177 samples.\n",
      "AdaBoostClassifier trained on 361 samples.\n",
      "AdaBoostClassifier trained on 3617 samples.\n",
      "AdaBoostClassifier trained on 36177 samples.\n"
     ]
    },
    {
     "name": "stderr",
     "output_type": "stream",
     "text": [
      "C:\\Users\\Edison.Tan\\Desktop\\Github\\projects\\p1_charityml\\visuals.py:118: UserWarning: Tight layout not applied. tight_layout cannot make axes width small enough to accommodate all axes decorations\n",
      "  pl.tight_layout()\n"
     ]
    },
    {
     "data": {
      "image/png": "[encoded data removed]",
      "text/plain": [
       "<Figure size 792x504 with 6 Axes>"
      ]
     },
     "metadata": {
      "needs_background": "light"
     },
     "output_type": "display_data"
    }
   ],
   "source": [
    "# TODO: Import the three supervised learning models from sklearn\n",
    "from sklearn.ensemble import RandomForestClassifier, AdaBoostClassifier\n",
    "from sklearn.svm import SVC\n",
    "\n",
    "\n",
    "# TODO: Initialize the three models\n",
    "clf_A = RandomForestClassifier(random_state=0)\n",
    "clf_B = SVC(random_state=0)\n",
    "clf_C = AdaBoostClassifier(random_state=0)\n",
    "\n",
    "# TODO: Calculate the number of samples for 1%, 10%, and 100% of the training data\n",
    "# HINT: samples_100 is the entire training set i.e. len(y_train)\n",
    "# HINT: samples_10 is 10% of samples_100 (ensure to set the count of the values to be `int` and not `float`)\n",
    "# HINT: samples_1 is 1% of samples_100 (ensure to set the count of the values to be `int` and not `float`)\n",
    "samples_100 = len(X_train)\n",
    "samples_10 = int(samples_100*0.1)\n",
    "samples_1 = int(samples_100*0.01)\n",
    "\n",
    "# Collect results on the learners\n",
    "results = {}\n",
    "for clf in [clf_A, clf_B, clf_C]:\n",
    "    clf_name = clf.__class__.__name__\n",
    "    results[clf_name] = {}\n",
    "    for i, samples in enumerate([samples_1, samples_10, samples_100]):\n",
    "        results[clf_name][i] = \\\n",
    "        train_predict(clf, samples, X_train, y_train, X_test, y_test)\n",
    "\n",
    "# Run metrics visualization for the three supervised learning models chosen\n",
    "vs.evaluate(results, accuracy, fscore)"
   ]
  },
  {
   "cell_type": "code",
   "execution_count": null,
   "metadata": {},
   "outputs": [],
   "source": [
    "for i in results.items():\n",
    "    print i[0]\n",
    "    display(pd.DataFrame(i[1]).rename(columns={0:'1% of train', 1:'10% of train', 2:'100% of train'}))"
   ]
  },
  {
   "cell_type": "markdown",
   "metadata": {},
   "source": [
    "----\n",
    "## Improving Results\n",
    "In this final section, you will choose from the three supervised learning models the *best* model to use on the student data. You will then perform a grid search optimization for the model over the entire training set (`X_train` and `y_train`) by tuning at least one parameter to improve upon the untuned model's F-score. "
   ]
  },
  {
   "cell_type": "markdown",
   "metadata": {},
   "source": [
    "### Question 3 - Choosing the Best Model\n",
    "\n",
    "* Based on the evaluation you performed earlier, in one to two paragraphs, explain to *CharityML* which of the three models you believe to be most appropriate for the task of identifying individuals that make more than \\$50,000. \n",
    "\n",
    "** HINT: ** \n",
    "Look at the graph at the bottom left from the cell above(the visualization created by `vs.evaluate(results, accuracy, fscore)`) and check the F score for the testing set when 100% of the training set is used. Which model has the highest score? Your answer should include discussion of the:\n",
    "* metrics - F score on the testing when 100% of the training data is used, \n",
    "* prediction/training time\n",
    "* the algorithm's suitability for the data."
   ]
  },
  {
   "cell_type": "markdown",
   "metadata": {},
   "source": [
    "**Answer: **\n",
    "\n",
    "#### Best model: AdaBoost\n",
    "\n",
    "In terms of model ranking: AdaBoost and SVC are quite close when looking at F-score and Accuracy.\n",
    "AdaBoost have best F-score on testing set among all 3 models for all training set sizes. \n",
    "AdaBoost have best Accuracy on testing set among all 3 models for all training set sizes.\n",
    "Its F-score and Accuracy on training set is lower than SVC but that indicates that it is not overfitting and it is recognising the patterns in the data and not memorising the training set as RF.\n",
    "\n",
    "Its training time is also very short (under 10seconds) compared to SVC model when training using 100% of the data. And this give AdaBoost a clear edge over SVC.\n",
    "\n",
    "In this case Adaboost works very well when data is cleaned as there will not be extremely complex \"wrong data\" that requires Adaboost to aggressively adjust its weight\n"
   ]
  },
  {
   "cell_type": "markdown",
   "metadata": {},
   "source": [
    "### Question 4 - Describing the Model in Layman's Terms\n",
    "\n",
    "* In one to two paragraphs, explain to *CharityML*, in layman's terms, how the final model chosen is supposed to work. Be sure that you are describing the major qualities of the model, such as how the model is trained and how the model makes a prediction. Avoid using advanced mathematical jargon, such as describing equations.\n",
    "\n",
    "** HINT: **\n",
    "\n",
    "When explaining your model, if using external resources please include all citations."
   ]
  },
  {
   "cell_type": "markdown",
   "metadata": {},
   "source": [
    "**Answer: ** \n",
    "\n",
    "Adaboost is uses weak learner like decision trees with depth 1 as a classifier to predict whether a person earns >50K based on all the inputs. \n",
    "\n",
    "A decision tree is a flowchart like structure in which a internal node is a 'if' statement logic e.g. coin flip (head/tail). A decision tree with depth of 1 indicates only 1 node and that will evaulate a input and give True/False outcome based on the coefficent belonging to that node. On its own, decision tree with depth of 1 is naturally expect to give poor prediction outcomes but are extremely fast. Adaboost take advantage of this makes use of multiple weak and fast learners to run multiple iteration of this classifiers while adjusting weight.  \n",
    "\n",
    "It first picks the classifiers with the lowest error and then iterates and and fit additional copies of the classifiers with weight adjusted for the remaining classifiers where instances are not predicted correctly.\n",
    "Adaboost continues doing so by consistenly picking classifiers with low error and adding it to its ensembles. The final output is then a collective voting of these chosen classifiers on the outcome."
   ]
  },
  {
   "cell_type": "markdown",
   "metadata": {},
   "source": [
    "### Implementation: Model Tuning\n",
    "Fine tune the chosen model. Use grid search (`GridSearchCV`) with at least one important parameter tuned with at least 3 different values. You will need to use the entire training set for this. In the code cell below, you will need to implement the following:\n",
    "- Import [`sklearn.grid_search.GridSearchCV`](http://scikit-learn.org/0.17/modules/generated/sklearn.grid_search.GridSearchCV.html) and [`sklearn.metrics.make_scorer`](http://scikit-learn.org/stable/modules/generated/sklearn.metrics.make_scorer.html).\n",
    "- Initialize the classifier you've chosen and store it in `clf`.\n",
    " - Set a `random_state` if one is available to the same state you set before.\n",
    "- Create a dictionary of parameters you wish to tune for the chosen model.\n",
    " - Example: `parameters = {'parameter' : [list of values]}`.\n",
    " - **Note:** Avoid tuning the `max_features` parameter of your learner if that parameter is available!\n",
    "- Use `make_scorer` to create an `fbeta_score` scoring object (with $\\beta = 0.5$).\n",
    "- Perform grid search on the classifier `clf` using the `'scorer'`, and store it in `grid_obj`.\n",
    "- Fit the grid search object to the training data (`X_train`, `y_train`), and store it in `grid_fit`.\n",
    "\n",
    "**Note:** Depending on the algorithm chosen and the parameter list, the following implementation may take some time to run!"
   ]
  },
  {
   "cell_type": "code",
   "execution_count": 54,
   "metadata": {},
   "outputs": [
    {
     "name": "stderr",
     "output_type": "stream",
     "text": [
      "C:\\Users\\tanho\\Anaconda3\\lib\\site-packages\\sklearn\\utils\\validation.py:72: FutureWarning: Pass scoring=make_scorer(fbeta_score, beta=0.5) as keyword args. From version 1.0 (renaming of 0.25) passing these as positional arguments will result in an error\n",
      "  \"will result in an error\", FutureWarning)\n"
     ]
    },
    {
     "name": "stdout",
     "output_type": "stream",
     "text": [
      "Unoptimized model\n",
      "------\n",
      "Accuracy score on testing data: 0.8576\n",
      "F-score on testing data: 0.7246\n",
      "\n",
      "Optimized Model\n",
      "------\n",
      "Final accuracy score on the testing data: 0.8652\n",
      "Final F-score on the testing data: 0.7401\n"
     ]
    }
   ],
   "source": [
    "# TODO: Import 'GridSearchCV', 'make_scorer', and any other necessary libraries\n",
    "from sklearn.model_selection import GridSearchCV\n",
    "from sklearn.metrics import make_scorer\n",
    "# TODO: Initialize the classifier\n",
    "clf = AdaBoostClassifier(random_state=0)\n",
    "\n",
    "# TODO: Create the parameters list you wish to tune, using a dictionary if needed.\n",
    "# HINT: parameters = {'parameter_1': [value1, value2], 'parameter_2': [value1, value2]}\n",
    "parameters = {'n_estimators': [10,100,200,400] , 'learning_rate': [0.001, 0.005, 0.01, 0.05, 0.1, 0.2, 0.3, 0.4, 0.5, 1, 2, 5, 10 ] }\n",
    "\n",
    "# TODO: Make an fbeta_score scoring object using make_scorer()\n",
    "scorer = make_scorer(fbeta_score, beta = 0.5)\n",
    "\n",
    "# TODO: Perform grid search on the classifier using 'scorer' as the scoring method using GridSearchCV()\n",
    "grid_obj = GridSearchCV(clf, parameters, scorer)\n",
    "\n",
    "# TODO: Fit the grid search object to the training data and find the optimal parameters using fit()\n",
    "grid_fit = grid_obj.fit(X_train,y_train)\n",
    "\n",
    "# Get the estimator\n",
    "best_clf = grid_fit.best_estimator_\n",
    "\n",
    "# Make predictions using the unoptimized and model\n",
    "predictions = (clf.fit(X_train, y_train)).predict(X_test)\n",
    "best_predictions = best_clf.predict(X_test)\n",
    "\n",
    "# Report the before-and-afterscores\n",
    "print(\"Unoptimized model\\n------\")\n",
    "print(\"Accuracy score on testing data: {:.4f}\".format(accuracy_score(y_test, predictions)))\n",
    "print(\"F-score on testing data: {:.4f}\".format(fbeta_score(y_test, predictions, beta = 0.5)))\n",
    "print(\"\\nOptimized Model\\n------\")\n",
    "print(\"Final accuracy score on the testing data: {:.4f}\".format(accuracy_score(y_test, best_predictions)))\n",
    "print(\"Final F-score on the testing data: {:.4f}\".format(fbeta_score(y_test, best_predictions, beta = 0.5)))"
   ]
  },
  {
   "cell_type": "markdown",
   "metadata": {},
   "source": [
    "### Question 5 - Final Model Evaluation\n",
    "\n",
    "* What is your optimized model's accuracy and F-score on the testing data? \n",
    "* Are these scores better or worse than the unoptimized model? \n",
    "* How do the results from your optimized model compare to the naive predictor benchmarks you found earlier in **Question 1**?_  \n",
    "\n",
    "**Note:** Fill in the table below with your results, and then provide discussion in the **Answer** box."
   ]
  },
  {
   "cell_type": "markdown",
   "metadata": {},
   "source": [
    "#### Results:\n",
    "\n",
    "|     Metric     | Unoptimized Model | Optimized Model |\n",
    "| :------------: | :---------------: | :-------------: | \n",
    "| Accuracy Score |       0.8576      |      0.8652     |\n",
    "| F-score        |       0.7246      |     0.7401      |\n"
   ]
  },
  {
   "cell_type": "markdown",
   "metadata": {},
   "source": [
    "**Answer: **\n",
    "\n",
    "Optimised model shows and increase in accuracy score of 0.007 and F-score of 0.015. Optimised model are better than unoptimised model.\n",
    "\n",
    "Comparing this to Naive predictor, this is naturally much better.\n"
   ]
  },
  {
   "cell_type": "markdown",
   "metadata": {},
   "source": [
    "----\n",
    "## Feature Importance\n",
    "\n",
    "An important task when performing supervised learning on a dataset like the census data we study here is determining which features provide the most predictive power. By focusing on the relationship between only a few crucial features and the target label we simplify our understanding of the phenomenon, which is most always a useful thing to do. In the case of this project, that means we wish to identify a small number of features that most strongly predict whether an individual makes at most or more than \\$50,000.\n",
    "\n",
    "Choose a scikit-learn classifier (e.g., adaboost, random forests) that has a `feature_importance_` attribute, which is a function that ranks the importance of features according to the chosen classifier.  In the next python cell fit this classifier to training set and use this attribute to determine the top 5 most important features for the census dataset."
   ]
  },
  {
   "cell_type": "markdown",
   "metadata": {},
   "source": [
    "### Question 6 - Feature Relevance Observation\n",
    "When **Exploring the Data**, it was shown there are thirteen available features for each individual on record in the census data. Of these thirteen records, which five features do you believe to be most important for prediction, and in what order would you rank them and why?"
   ]
  },
  {
   "cell_type": "markdown",
   "metadata": {},
   "source": [
    "**Answer:**\n",
    "\n",
    "1) occupation: Job will determine salary  \n",
    "2) education: higher education will lead to better jobs or higher performance in a job and hence higher salary  \n",
    "3) age: older person get promoted over time and gets better pay  \n",
    "4) martial status: unmarried  tends not to have children and can focus on advancing career and getting higher income  \n",
    "5) workclass: self employed are typically business owners and have a higher potential of earning high income compared to salaried employees  "
   ]
  },
  {
   "cell_type": "markdown",
   "metadata": {},
   "source": [
    "### Implementation - Extracting Feature Importance\n",
    "Choose a `scikit-learn` supervised learning algorithm that has a `feature_importance_` attribute availble for it. This attribute is a function that ranks the importance of each feature when making predictions based on the chosen algorithm.\n",
    "\n",
    "In the code cell below, you will need to implement the following:\n",
    " - Import a supervised learning model from sklearn if it is different from the three used earlier.\n",
    " - Train the supervised model on the entire training set.\n",
    " - Extract the feature importances using `'.feature_importances_'`."
   ]
  },
  {
   "cell_type": "code",
   "execution_count": 55,
   "metadata": {},
   "outputs": [
    {
     "data": {
      "image/png": "[encoded data removed]",
      "text/plain": [
       "<Figure size 648x360 with 1 Axes>"
      ]
     },
     "metadata": {
      "needs_background": "light"
     },
     "output_type": "display_data"
    }
   ],
   "source": [
    "# TODO: Import a supervised learning model that has 'feature_importances_'\n",
    "\n",
    "\n",
    "# TODO: Train the supervised model on the training set using .fit(X_train, y_train)\n",
    "#model = None\n",
    "\n",
    "# TODO: Extract the feature importances using .feature_importances_ \n",
    "importances = best_clf.feature_importances_\n",
    "\n",
    "# Plot\n",
    "vs.feature_plot(importances, X_train, y_train)"
   ]
  },
  {
   "cell_type": "markdown",
   "metadata": {},
   "source": [
    "### Question 7 - Extracting Feature Importance\n",
    "\n",
    "Observe the visualization created above which displays the five most relevant features for predicting if an individual makes at most or above \\$50,000.  \n",
    "* How do these five features compare to the five features you discussed in **Question 6**?\n",
    "* If you were close to the same answer, how does this visualization confirm your thoughts? \n",
    "* If you were not close, why do you think these features are more relevant?"
   ]
  },
  {
   "cell_type": "markdown",
   "metadata": {},
   "source": [
    "**Answer:**\n",
    "\n",
    "Age and Education matches my prediction, but hours-per-week, capital gain and capital loss is not.\n",
    "\n",
    "This visualisation confirmed that capital gain and capital loss which have total cum. weight of 70% is the key predictor of the income. This meant that profit/loss of sales of property and therefore directly affect the income of that individual. this meant that the income does not mean only salary but also includes these profit as well.\n",
    "\n"
   ]
  },
  {
   "cell_type": "markdown",
   "metadata": {},
   "source": [
    "### Feature Selection\n",
    "How does a model perform if we only use a subset of all the available features in the data? With less features required to train, the expectation is that training and prediction time is much lower — at the cost of performance metrics. From the visualization above, we see that the top five most important features contribute more than half of the importance of **all** features present in the data. This hints that we can attempt to *reduce the feature space* and simplify the information required for the model to learn. The code cell below will use the same optimized model you found earlier, and train it on the same training set *with only the top five important features*. "
   ]
  },
  {
   "cell_type": "code",
   "execution_count": 56,
   "metadata": {},
   "outputs": [
    {
     "name": "stdout",
     "output_type": "stream",
     "text": [
      "Final Model trained on full data\n",
      "------\n",
      "Accuracy on testing data: 0.8652\n",
      "F-score on testing data: 0.7401\n",
      "\n",
      "Final Model trained on reduced data\n",
      "------\n",
      "Accuracy on testing data: 0.8417\n",
      "F-score on testing data: 0.7017\n"
     ]
    }
   ],
   "source": [
    "# Import functionality for cloning a model\n",
    "from sklearn.base import clone\n",
    "\n",
    "# Reduce the feature space\n",
    "X_train_reduced = X_train[X_train.columns.values[(np.argsort(importances)[::-1])[:5]]]\n",
    "X_test_reduced = X_test[X_test.columns.values[(np.argsort(importances)[::-1])[:5]]]\n",
    "\n",
    "# Train on the \"best\" model found from grid search earlier\n",
    "clf = (clone(best_clf)).fit(X_train_reduced, y_train)\n",
    "\n",
    "# Make new predictions\n",
    "reduced_predictions = clf.predict(X_test_reduced)\n",
    "\n",
    "# Report scores from the final model using both versions of data\n",
    "print(\"Final Model trained on full data\\n------\")\n",
    "print(\"Accuracy on testing data: {:.4f}\".format(accuracy_score(y_test, best_predictions)))\n",
    "print(\"F-score on testing data: {:.4f}\".format(fbeta_score(y_test, best_predictions, beta = 0.5)))\n",
    "print(\"\\nFinal Model trained on reduced data\\n------\")\n",
    "print(\"Accuracy on testing data: {:.4f}\".format(accuracy_score(y_test, reduced_predictions)))\n",
    "print(\"F-score on testing data: {:.4f}\".format(fbeta_score(y_test, reduced_predictions, beta = 0.5)))"
   ]
  },
  {
   "cell_type": "code",
   "execution_count": 5,
   "metadata": {},
   "outputs": [],
   "source": [
    "from pycaret.classification import * "
   ]
  },
  {
   "cell_type": "code",
   "execution_count": 6,
   "metadata": {},
   "outputs": [
    {
     "data": {
      "text/html": [
       "<style  type=\"text/css\" >\n",
       "#T_158a1_row44_col1{\n",
       "            background-color:  lightgreen;\n",
       "        }</style><table id=\"T_158a1_\" ><thead>    <tr>        <th class=\"blank level0\" ></th>        <th class=\"col_heading level0 col0\" >Description</th>        <th class=\"col_heading level0 col1\" >Value</th>    </tr></thead><tbody>\n",
       "                <tr>\n",
       "                        <th id=\"T_158a1_level0_row0\" class=\"row_heading level0 row0\" >0</th>\n",
       "                        <td id=\"T_158a1_row0_col0\" class=\"data row0 col0\" >session_id</td>\n",
       "                        <td id=\"T_158a1_row0_col1\" class=\"data row0 col1\" >4076</td>\n",
       "            </tr>\n",
       "            <tr>\n",
       "                        <th id=\"T_158a1_level0_row1\" class=\"row_heading level0 row1\" >1</th>\n",
       "                        <td id=\"T_158a1_row1_col0\" class=\"data row1 col0\" >Target</td>\n",
       "                        <td id=\"T_158a1_row1_col1\" class=\"data row1 col1\" >income</td>\n",
       "            </tr>\n",
       "            <tr>\n",
       "                        <th id=\"T_158a1_level0_row2\" class=\"row_heading level0 row2\" >2</th>\n",
       "                        <td id=\"T_158a1_row2_col0\" class=\"data row2 col0\" >Target Type</td>\n",
       "                        <td id=\"T_158a1_row2_col1\" class=\"data row2 col1\" >Binary</td>\n",
       "            </tr>\n",
       "            <tr>\n",
       "                        <th id=\"T_158a1_level0_row3\" class=\"row_heading level0 row3\" >3</th>\n",
       "                        <td id=\"T_158a1_row3_col0\" class=\"data row3 col0\" >Label Encoded</td>\n",
       "                        <td id=\"T_158a1_row3_col1\" class=\"data row3 col1\" ><=50K: 0, >50K: 1</td>\n",
       "            </tr>\n",
       "            <tr>\n",
       "                        <th id=\"T_158a1_level0_row4\" class=\"row_heading level0 row4\" >4</th>\n",
       "                        <td id=\"T_158a1_row4_col0\" class=\"data row4 col0\" >Original Data</td>\n",
       "                        <td id=\"T_158a1_row4_col1\" class=\"data row4 col1\" >(45222, 14)</td>\n",
       "            </tr>\n",
       "            <tr>\n",
       "                        <th id=\"T_158a1_level0_row5\" class=\"row_heading level0 row5\" >5</th>\n",
       "                        <td id=\"T_158a1_row5_col0\" class=\"data row5 col0\" >Missing Values</td>\n",
       "                        <td id=\"T_158a1_row5_col1\" class=\"data row5 col1\" >False</td>\n",
       "            </tr>\n",
       "            <tr>\n",
       "                        <th id=\"T_158a1_level0_row6\" class=\"row_heading level0 row6\" >6</th>\n",
       "                        <td id=\"T_158a1_row6_col0\" class=\"data row6 col0\" >Numeric Features</td>\n",
       "                        <td id=\"T_158a1_row6_col1\" class=\"data row6 col1\" >5</td>\n",
       "            </tr>\n",
       "            <tr>\n",
       "                        <th id=\"T_158a1_level0_row7\" class=\"row_heading level0 row7\" >7</th>\n",
       "                        <td id=\"T_158a1_row7_col0\" class=\"data row7 col0\" >Categorical Features</td>\n",
       "                        <td id=\"T_158a1_row7_col1\" class=\"data row7 col1\" >8</td>\n",
       "            </tr>\n",
       "            <tr>\n",
       "                        <th id=\"T_158a1_level0_row8\" class=\"row_heading level0 row8\" >8</th>\n",
       "                        <td id=\"T_158a1_row8_col0\" class=\"data row8 col0\" >Ordinal Features</td>\n",
       "                        <td id=\"T_158a1_row8_col1\" class=\"data row8 col1\" >False</td>\n",
       "            </tr>\n",
       "            <tr>\n",
       "                        <th id=\"T_158a1_level0_row9\" class=\"row_heading level0 row9\" >9</th>\n",
       "                        <td id=\"T_158a1_row9_col0\" class=\"data row9 col0\" >High Cardinality Features</td>\n",
       "                        <td id=\"T_158a1_row9_col1\" class=\"data row9 col1\" >False</td>\n",
       "            </tr>\n",
       "            <tr>\n",
       "                        <th id=\"T_158a1_level0_row10\" class=\"row_heading level0 row10\" >10</th>\n",
       "                        <td id=\"T_158a1_row10_col0\" class=\"data row10 col0\" >High Cardinality Method</td>\n",
       "                        <td id=\"T_158a1_row10_col1\" class=\"data row10 col1\" >None</td>\n",
       "            </tr>\n",
       "            <tr>\n",
       "                        <th id=\"T_158a1_level0_row11\" class=\"row_heading level0 row11\" >11</th>\n",
       "                        <td id=\"T_158a1_row11_col0\" class=\"data row11 col0\" >Transformed Train Set</td>\n",
       "                        <td id=\"T_158a1_row11_col1\" class=\"data row11 col1\" >(31655, 101)</td>\n",
       "            </tr>\n",
       "            <tr>\n",
       "                        <th id=\"T_158a1_level0_row12\" class=\"row_heading level0 row12\" >12</th>\n",
       "                        <td id=\"T_158a1_row12_col0\" class=\"data row12 col0\" >Transformed Test Set</td>\n",
       "                        <td id=\"T_158a1_row12_col1\" class=\"data row12 col1\" >(13567, 101)</td>\n",
       "            </tr>\n",
       "            <tr>\n",
       "                        <th id=\"T_158a1_level0_row13\" class=\"row_heading level0 row13\" >13</th>\n",
       "                        <td id=\"T_158a1_row13_col0\" class=\"data row13 col0\" >Shuffle Train-Test</td>\n",
       "                        <td id=\"T_158a1_row13_col1\" class=\"data row13 col1\" >True</td>\n",
       "            </tr>\n",
       "            <tr>\n",
       "                        <th id=\"T_158a1_level0_row14\" class=\"row_heading level0 row14\" >14</th>\n",
       "                        <td id=\"T_158a1_row14_col0\" class=\"data row14 col0\" >Stratify Train-Test</td>\n",
       "                        <td id=\"T_158a1_row14_col1\" class=\"data row14 col1\" >False</td>\n",
       "            </tr>\n",
       "            <tr>\n",
       "                        <th id=\"T_158a1_level0_row15\" class=\"row_heading level0 row15\" >15</th>\n",
       "                        <td id=\"T_158a1_row15_col0\" class=\"data row15 col0\" >Fold Generator</td>\n",
       "                        <td id=\"T_158a1_row15_col1\" class=\"data row15 col1\" >StratifiedKFold</td>\n",
       "            </tr>\n",
       "            <tr>\n",
       "                        <th id=\"T_158a1_level0_row16\" class=\"row_heading level0 row16\" >16</th>\n",
       "                        <td id=\"T_158a1_row16_col0\" class=\"data row16 col0\" >Fold Number</td>\n",
       "                        <td id=\"T_158a1_row16_col1\" class=\"data row16 col1\" >10</td>\n",
       "            </tr>\n",
       "            <tr>\n",
       "                        <th id=\"T_158a1_level0_row17\" class=\"row_heading level0 row17\" >17</th>\n",
       "                        <td id=\"T_158a1_row17_col0\" class=\"data row17 col0\" >CPU Jobs</td>\n",
       "                        <td id=\"T_158a1_row17_col1\" class=\"data row17 col1\" >-1</td>\n",
       "            </tr>\n",
       "            <tr>\n",
       "                        <th id=\"T_158a1_level0_row18\" class=\"row_heading level0 row18\" >18</th>\n",
       "                        <td id=\"T_158a1_row18_col0\" class=\"data row18 col0\" >Use GPU</td>\n",
       "                        <td id=\"T_158a1_row18_col1\" class=\"data row18 col1\" >False</td>\n",
       "            </tr>\n",
       "            <tr>\n",
       "                        <th id=\"T_158a1_level0_row19\" class=\"row_heading level0 row19\" >19</th>\n",
       "                        <td id=\"T_158a1_row19_col0\" class=\"data row19 col0\" >Log Experiment</td>\n",
       "                        <td id=\"T_158a1_row19_col1\" class=\"data row19 col1\" >False</td>\n",
       "            </tr>\n",
       "            <tr>\n",
       "                        <th id=\"T_158a1_level0_row20\" class=\"row_heading level0 row20\" >20</th>\n",
       "                        <td id=\"T_158a1_row20_col0\" class=\"data row20 col0\" >Experiment Name</td>\n",
       "                        <td id=\"T_158a1_row20_col1\" class=\"data row20 col1\" >clf-default-name</td>\n",
       "            </tr>\n",
       "            <tr>\n",
       "                        <th id=\"T_158a1_level0_row21\" class=\"row_heading level0 row21\" >21</th>\n",
       "                        <td id=\"T_158a1_row21_col0\" class=\"data row21 col0\" >USI</td>\n",
       "                        <td id=\"T_158a1_row21_col1\" class=\"data row21 col1\" >0622</td>\n",
       "            </tr>\n",
       "            <tr>\n",
       "                        <th id=\"T_158a1_level0_row22\" class=\"row_heading level0 row22\" >22</th>\n",
       "                        <td id=\"T_158a1_row22_col0\" class=\"data row22 col0\" >Imputation Type</td>\n",
       "                        <td id=\"T_158a1_row22_col1\" class=\"data row22 col1\" >simple</td>\n",
       "            </tr>\n",
       "            <tr>\n",
       "                        <th id=\"T_158a1_level0_row23\" class=\"row_heading level0 row23\" >23</th>\n",
       "                        <td id=\"T_158a1_row23_col0\" class=\"data row23 col0\" >Iterative Imputation Iteration</td>\n",
       "                        <td id=\"T_158a1_row23_col1\" class=\"data row23 col1\" >None</td>\n",
       "            </tr>\n",
       "            <tr>\n",
       "                        <th id=\"T_158a1_level0_row24\" class=\"row_heading level0 row24\" >24</th>\n",
       "                        <td id=\"T_158a1_row24_col0\" class=\"data row24 col0\" >Numeric Imputer</td>\n",
       "                        <td id=\"T_158a1_row24_col1\" class=\"data row24 col1\" >mean</td>\n",
       "            </tr>\n",
       "            <tr>\n",
       "                        <th id=\"T_158a1_level0_row25\" class=\"row_heading level0 row25\" >25</th>\n",
       "                        <td id=\"T_158a1_row25_col0\" class=\"data row25 col0\" >Iterative Imputation Numeric Model</td>\n",
       "                        <td id=\"T_158a1_row25_col1\" class=\"data row25 col1\" >None</td>\n",
       "            </tr>\n",
       "            <tr>\n",
       "                        <th id=\"T_158a1_level0_row26\" class=\"row_heading level0 row26\" >26</th>\n",
       "                        <td id=\"T_158a1_row26_col0\" class=\"data row26 col0\" >Categorical Imputer</td>\n",
       "                        <td id=\"T_158a1_row26_col1\" class=\"data row26 col1\" >constant</td>\n",
       "            </tr>\n",
       "            <tr>\n",
       "                        <th id=\"T_158a1_level0_row27\" class=\"row_heading level0 row27\" >27</th>\n",
       "                        <td id=\"T_158a1_row27_col0\" class=\"data row27 col0\" >Iterative Imputation Categorical Model</td>\n",
       "                        <td id=\"T_158a1_row27_col1\" class=\"data row27 col1\" >None</td>\n",
       "            </tr>\n",
       "            <tr>\n",
       "                        <th id=\"T_158a1_level0_row28\" class=\"row_heading level0 row28\" >28</th>\n",
       "                        <td id=\"T_158a1_row28_col0\" class=\"data row28 col0\" >Unknown Categoricals Handling</td>\n",
       "                        <td id=\"T_158a1_row28_col1\" class=\"data row28 col1\" >least_frequent</td>\n",
       "            </tr>\n",
       "            <tr>\n",
       "                        <th id=\"T_158a1_level0_row29\" class=\"row_heading level0 row29\" >29</th>\n",
       "                        <td id=\"T_158a1_row29_col0\" class=\"data row29 col0\" >Normalize</td>\n",
       "                        <td id=\"T_158a1_row29_col1\" class=\"data row29 col1\" >False</td>\n",
       "            </tr>\n",
       "            <tr>\n",
       "                        <th id=\"T_158a1_level0_row30\" class=\"row_heading level0 row30\" >30</th>\n",
       "                        <td id=\"T_158a1_row30_col0\" class=\"data row30 col0\" >Normalize Method</td>\n",
       "                        <td id=\"T_158a1_row30_col1\" class=\"data row30 col1\" >None</td>\n",
       "            </tr>\n",
       "            <tr>\n",
       "                        <th id=\"T_158a1_level0_row31\" class=\"row_heading level0 row31\" >31</th>\n",
       "                        <td id=\"T_158a1_row31_col0\" class=\"data row31 col0\" >Transformation</td>\n",
       "                        <td id=\"T_158a1_row31_col1\" class=\"data row31 col1\" >False</td>\n",
       "            </tr>\n",
       "            <tr>\n",
       "                        <th id=\"T_158a1_level0_row32\" class=\"row_heading level0 row32\" >32</th>\n",
       "                        <td id=\"T_158a1_row32_col0\" class=\"data row32 col0\" >Transformation Method</td>\n",
       "                        <td id=\"T_158a1_row32_col1\" class=\"data row32 col1\" >None</td>\n",
       "            </tr>\n",
       "            <tr>\n",
       "                        <th id=\"T_158a1_level0_row33\" class=\"row_heading level0 row33\" >33</th>\n",
       "                        <td id=\"T_158a1_row33_col0\" class=\"data row33 col0\" >PCA</td>\n",
       "                        <td id=\"T_158a1_row33_col1\" class=\"data row33 col1\" >False</td>\n",
       "            </tr>\n",
       "            <tr>\n",
       "                        <th id=\"T_158a1_level0_row34\" class=\"row_heading level0 row34\" >34</th>\n",
       "                        <td id=\"T_158a1_row34_col0\" class=\"data row34 col0\" >PCA Method</td>\n",
       "                        <td id=\"T_158a1_row34_col1\" class=\"data row34 col1\" >None</td>\n",
       "            </tr>\n",
       "            <tr>\n",
       "                        <th id=\"T_158a1_level0_row35\" class=\"row_heading level0 row35\" >35</th>\n",
       "                        <td id=\"T_158a1_row35_col0\" class=\"data row35 col0\" >PCA Components</td>\n",
       "                        <td id=\"T_158a1_row35_col1\" class=\"data row35 col1\" >None</td>\n",
       "            </tr>\n",
       "            <tr>\n",
       "                        <th id=\"T_158a1_level0_row36\" class=\"row_heading level0 row36\" >36</th>\n",
       "                        <td id=\"T_158a1_row36_col0\" class=\"data row36 col0\" >Ignore Low Variance</td>\n",
       "                        <td id=\"T_158a1_row36_col1\" class=\"data row36 col1\" >False</td>\n",
       "            </tr>\n",
       "            <tr>\n",
       "                        <th id=\"T_158a1_level0_row37\" class=\"row_heading level0 row37\" >37</th>\n",
       "                        <td id=\"T_158a1_row37_col0\" class=\"data row37 col0\" >Combine Rare Levels</td>\n",
       "                        <td id=\"T_158a1_row37_col1\" class=\"data row37 col1\" >False</td>\n",
       "            </tr>\n",
       "            <tr>\n",
       "                        <th id=\"T_158a1_level0_row38\" class=\"row_heading level0 row38\" >38</th>\n",
       "                        <td id=\"T_158a1_row38_col0\" class=\"data row38 col0\" >Rare Level Threshold</td>\n",
       "                        <td id=\"T_158a1_row38_col1\" class=\"data row38 col1\" >None</td>\n",
       "            </tr>\n",
       "            <tr>\n",
       "                        <th id=\"T_158a1_level0_row39\" class=\"row_heading level0 row39\" >39</th>\n",
       "                        <td id=\"T_158a1_row39_col0\" class=\"data row39 col0\" >Numeric Binning</td>\n",
       "                        <td id=\"T_158a1_row39_col1\" class=\"data row39 col1\" >False</td>\n",
       "            </tr>\n",
       "            <tr>\n",
       "                        <th id=\"T_158a1_level0_row40\" class=\"row_heading level0 row40\" >40</th>\n",
       "                        <td id=\"T_158a1_row40_col0\" class=\"data row40 col0\" >Remove Outliers</td>\n",
       "                        <td id=\"T_158a1_row40_col1\" class=\"data row40 col1\" >False</td>\n",
       "            </tr>\n",
       "            <tr>\n",
       "                        <th id=\"T_158a1_level0_row41\" class=\"row_heading level0 row41\" >41</th>\n",
       "                        <td id=\"T_158a1_row41_col0\" class=\"data row41 col0\" >Outliers Threshold</td>\n",
       "                        <td id=\"T_158a1_row41_col1\" class=\"data row41 col1\" >None</td>\n",
       "            </tr>\n",
       "            <tr>\n",
       "                        <th id=\"T_158a1_level0_row42\" class=\"row_heading level0 row42\" >42</th>\n",
       "                        <td id=\"T_158a1_row42_col0\" class=\"data row42 col0\" >Remove Multicollinearity</td>\n",
       "                        <td id=\"T_158a1_row42_col1\" class=\"data row42 col1\" >False</td>\n",
       "            </tr>\n",
       "            <tr>\n",
       "                        <th id=\"T_158a1_level0_row43\" class=\"row_heading level0 row43\" >43</th>\n",
       "                        <td id=\"T_158a1_row43_col0\" class=\"data row43 col0\" >Multicollinearity Threshold</td>\n",
       "                        <td id=\"T_158a1_row43_col1\" class=\"data row43 col1\" >None</td>\n",
       "            </tr>\n",
       "            <tr>\n",
       "                        <th id=\"T_158a1_level0_row44\" class=\"row_heading level0 row44\" >44</th>\n",
       "                        <td id=\"T_158a1_row44_col0\" class=\"data row44 col0\" >Remove Perfect Collinearity</td>\n",
       "                        <td id=\"T_158a1_row44_col1\" class=\"data row44 col1\" >True</td>\n",
       "            </tr>\n",
       "            <tr>\n",
       "                        <th id=\"T_158a1_level0_row45\" class=\"row_heading level0 row45\" >45</th>\n",
       "                        <td id=\"T_158a1_row45_col0\" class=\"data row45 col0\" >Clustering</td>\n",
       "                        <td id=\"T_158a1_row45_col1\" class=\"data row45 col1\" >False</td>\n",
       "            </tr>\n",
       "            <tr>\n",
       "                        <th id=\"T_158a1_level0_row46\" class=\"row_heading level0 row46\" >46</th>\n",
       "                        <td id=\"T_158a1_row46_col0\" class=\"data row46 col0\" >Clustering Iteration</td>\n",
       "                        <td id=\"T_158a1_row46_col1\" class=\"data row46 col1\" >None</td>\n",
       "            </tr>\n",
       "            <tr>\n",
       "                        <th id=\"T_158a1_level0_row47\" class=\"row_heading level0 row47\" >47</th>\n",
       "                        <td id=\"T_158a1_row47_col0\" class=\"data row47 col0\" >Polynomial Features</td>\n",
       "                        <td id=\"T_158a1_row47_col1\" class=\"data row47 col1\" >False</td>\n",
       "            </tr>\n",
       "            <tr>\n",
       "                        <th id=\"T_158a1_level0_row48\" class=\"row_heading level0 row48\" >48</th>\n",
       "                        <td id=\"T_158a1_row48_col0\" class=\"data row48 col0\" >Polynomial Degree</td>\n",
       "                        <td id=\"T_158a1_row48_col1\" class=\"data row48 col1\" >None</td>\n",
       "            </tr>\n",
       "            <tr>\n",
       "                        <th id=\"T_158a1_level0_row49\" class=\"row_heading level0 row49\" >49</th>\n",
       "                        <td id=\"T_158a1_row49_col0\" class=\"data row49 col0\" >Trignometry Features</td>\n",
       "                        <td id=\"T_158a1_row49_col1\" class=\"data row49 col1\" >False</td>\n",
       "            </tr>\n",
       "            <tr>\n",
       "                        <th id=\"T_158a1_level0_row50\" class=\"row_heading level0 row50\" >50</th>\n",
       "                        <td id=\"T_158a1_row50_col0\" class=\"data row50 col0\" >Polynomial Threshold</td>\n",
       "                        <td id=\"T_158a1_row50_col1\" class=\"data row50 col1\" >None</td>\n",
       "            </tr>\n",
       "            <tr>\n",
       "                        <th id=\"T_158a1_level0_row51\" class=\"row_heading level0 row51\" >51</th>\n",
       "                        <td id=\"T_158a1_row51_col0\" class=\"data row51 col0\" >Group Features</td>\n",
       "                        <td id=\"T_158a1_row51_col1\" class=\"data row51 col1\" >False</td>\n",
       "            </tr>\n",
       "            <tr>\n",
       "                        <th id=\"T_158a1_level0_row52\" class=\"row_heading level0 row52\" >52</th>\n",
       "                        <td id=\"T_158a1_row52_col0\" class=\"data row52 col0\" >Feature Selection</td>\n",
       "                        <td id=\"T_158a1_row52_col1\" class=\"data row52 col1\" >False</td>\n",
       "            </tr>\n",
       "            <tr>\n",
       "                        <th id=\"T_158a1_level0_row53\" class=\"row_heading level0 row53\" >53</th>\n",
       "                        <td id=\"T_158a1_row53_col0\" class=\"data row53 col0\" >Feature Selection Method</td>\n",
       "                        <td id=\"T_158a1_row53_col1\" class=\"data row53 col1\" >classic</td>\n",
       "            </tr>\n",
       "            <tr>\n",
       "                        <th id=\"T_158a1_level0_row54\" class=\"row_heading level0 row54\" >54</th>\n",
       "                        <td id=\"T_158a1_row54_col0\" class=\"data row54 col0\" >Features Selection Threshold</td>\n",
       "                        <td id=\"T_158a1_row54_col1\" class=\"data row54 col1\" >None</td>\n",
       "            </tr>\n",
       "            <tr>\n",
       "                        <th id=\"T_158a1_level0_row55\" class=\"row_heading level0 row55\" >55</th>\n",
       "                        <td id=\"T_158a1_row55_col0\" class=\"data row55 col0\" >Feature Interaction</td>\n",
       "                        <td id=\"T_158a1_row55_col1\" class=\"data row55 col1\" >False</td>\n",
       "            </tr>\n",
       "            <tr>\n",
       "                        <th id=\"T_158a1_level0_row56\" class=\"row_heading level0 row56\" >56</th>\n",
       "                        <td id=\"T_158a1_row56_col0\" class=\"data row56 col0\" >Feature Ratio</td>\n",
       "                        <td id=\"T_158a1_row56_col1\" class=\"data row56 col1\" >False</td>\n",
       "            </tr>\n",
       "            <tr>\n",
       "                        <th id=\"T_158a1_level0_row57\" class=\"row_heading level0 row57\" >57</th>\n",
       "                        <td id=\"T_158a1_row57_col0\" class=\"data row57 col0\" >Interaction Threshold</td>\n",
       "                        <td id=\"T_158a1_row57_col1\" class=\"data row57 col1\" >None</td>\n",
       "            </tr>\n",
       "            <tr>\n",
       "                        <th id=\"T_158a1_level0_row58\" class=\"row_heading level0 row58\" >58</th>\n",
       "                        <td id=\"T_158a1_row58_col0\" class=\"data row58 col0\" >Fix Imbalance</td>\n",
       "                        <td id=\"T_158a1_row58_col1\" class=\"data row58 col1\" >False</td>\n",
       "            </tr>\n",
       "            <tr>\n",
       "                        <th id=\"T_158a1_level0_row59\" class=\"row_heading level0 row59\" >59</th>\n",
       "                        <td id=\"T_158a1_row59_col0\" class=\"data row59 col0\" >Fix Imbalance Method</td>\n",
       "                        <td id=\"T_158a1_row59_col1\" class=\"data row59 col1\" >SMOTE</td>\n",
       "            </tr>\n",
       "    </tbody></table>"
      ],
      "text/plain": [
       "<pandas.io.formats.style.Styler at 0x1742e603d90>"
      ]
     },
     "metadata": {},
     "output_type": "display_data"
    }
   ],
   "source": [
    "exp_clf = setup(data, target='income')"
   ]
  },
  {
   "cell_type": "code",
   "execution_count": 7,
   "metadata": {},
   "outputs": [
    {
     "data": {
      "text/html": [
       "<style  type=\"text/css\" >\n",
       "    #T_96930_ th {\n",
       "          text-align: left;\n",
       "    }#T_96930_row0_col0,#T_96930_row0_col3,#T_96930_row0_col4,#T_96930_row1_col0,#T_96930_row1_col1,#T_96930_row1_col2,#T_96930_row1_col3,#T_96930_row1_col5,#T_96930_row1_col6,#T_96930_row1_col7,#T_96930_row2_col0,#T_96930_row2_col1,#T_96930_row2_col2,#T_96930_row2_col3,#T_96930_row2_col4,#T_96930_row2_col5,#T_96930_row2_col6,#T_96930_row2_col7,#T_96930_row3_col0,#T_96930_row3_col1,#T_96930_row3_col2,#T_96930_row3_col3,#T_96930_row3_col4,#T_96930_row3_col5,#T_96930_row3_col6,#T_96930_row3_col7,#T_96930_row4_col0,#T_96930_row4_col1,#T_96930_row4_col2,#T_96930_row4_col3,#T_96930_row4_col4,#T_96930_row4_col5,#T_96930_row4_col6,#T_96930_row4_col7,#T_96930_row5_col0,#T_96930_row5_col1,#T_96930_row5_col2,#T_96930_row5_col3,#T_96930_row5_col4,#T_96930_row5_col5,#T_96930_row5_col6,#T_96930_row5_col7,#T_96930_row6_col0,#T_96930_row6_col1,#T_96930_row6_col2,#T_96930_row6_col3,#T_96930_row6_col4,#T_96930_row6_col5,#T_96930_row6_col6,#T_96930_row6_col7,#T_96930_row7_col0,#T_96930_row7_col1,#T_96930_row7_col2,#T_96930_row7_col3,#T_96930_row7_col4,#T_96930_row7_col5,#T_96930_row7_col6,#T_96930_row7_col7,#T_96930_row8_col0,#T_96930_row8_col1,#T_96930_row8_col2,#T_96930_row8_col3,#T_96930_row8_col4,#T_96930_row8_col5,#T_96930_row8_col6,#T_96930_row8_col7,#T_96930_row9_col0,#T_96930_row9_col1,#T_96930_row9_col2,#T_96930_row9_col3,#T_96930_row9_col4,#T_96930_row9_col5,#T_96930_row9_col6,#T_96930_row9_col7,#T_96930_row10_col0,#T_96930_row10_col1,#T_96930_row10_col2,#T_96930_row10_col3,#T_96930_row10_col4,#T_96930_row10_col5,#T_96930_row10_col6,#T_96930_row10_col7,#T_96930_row11_col0,#T_96930_row11_col1,#T_96930_row11_col2,#T_96930_row11_col3,#T_96930_row11_col4,#T_96930_row11_col5,#T_96930_row11_col6,#T_96930_row11_col7,#T_96930_row12_col0,#T_96930_row12_col1,#T_96930_row12_col2,#T_96930_row12_col4,#T_96930_row12_col5,#T_96930_row12_col6,#T_96930_row12_col7{\n",
       "            text-align:  left;\n",
       "            text-align:  left;\n",
       "        }#T_96930_row0_col1,#T_96930_row0_col2,#T_96930_row0_col5,#T_96930_row0_col6,#T_96930_row0_col7,#T_96930_row1_col4,#T_96930_row12_col3{\n",
       "            text-align:  left;\n",
       "            text-align:  left;\n",
       "            background-color:  yellow;\n",
       "        }#T_96930_row0_col8,#T_96930_row1_col8,#T_96930_row2_col8,#T_96930_row3_col8,#T_96930_row4_col8,#T_96930_row5_col8,#T_96930_row6_col8,#T_96930_row8_col8,#T_96930_row9_col8,#T_96930_row10_col8,#T_96930_row11_col8,#T_96930_row12_col8{\n",
       "            text-align:  left;\n",
       "            text-align:  left;\n",
       "            background-color:  lightgrey;\n",
       "        }#T_96930_row7_col8{\n",
       "            text-align:  left;\n",
       "            text-align:  left;\n",
       "            background-color:  yellow;\n",
       "            background-color:  lightgrey;\n",
       "        }</style><table id=\"T_96930_\" ><thead>    <tr>        <th class=\"blank level0\" ></th>        <th class=\"col_heading level0 col0\" >Model</th>        <th class=\"col_heading level0 col1\" >Accuracy</th>        <th class=\"col_heading level0 col2\" >AUC</th>        <th class=\"col_heading level0 col3\" >Recall</th>        <th class=\"col_heading level0 col4\" >Prec.</th>        <th class=\"col_heading level0 col5\" >F1</th>        <th class=\"col_heading level0 col6\" >Kappa</th>        <th class=\"col_heading level0 col7\" >MCC</th>        <th class=\"col_heading level0 col8\" >TT (Sec)</th>    </tr></thead><tbody>\n",
       "                <tr>\n",
       "                        <th id=\"T_96930_level0_row0\" class=\"row_heading level0 row0\" >lightgbm</th>\n",
       "                        <td id=\"T_96930_row0_col0\" class=\"data row0 col0\" >Light Gradient Boosting Machine</td>\n",
       "                        <td id=\"T_96930_row0_col1\" class=\"data row0 col1\" >0.8698</td>\n",
       "                        <td id=\"T_96930_row0_col2\" class=\"data row0 col2\" >0.9254</td>\n",
       "                        <td id=\"T_96930_row0_col3\" class=\"data row0 col3\" >0.6524</td>\n",
       "                        <td id=\"T_96930_row0_col4\" class=\"data row0 col4\" >0.7844</td>\n",
       "                        <td id=\"T_96930_row0_col5\" class=\"data row0 col5\" >0.7122</td>\n",
       "                        <td id=\"T_96930_row0_col6\" class=\"data row0 col6\" >0.6290</td>\n",
       "                        <td id=\"T_96930_row0_col7\" class=\"data row0 col7\" >0.6335</td>\n",
       "                        <td id=\"T_96930_row0_col8\" class=\"data row0 col8\" >0.2240</td>\n",
       "            </tr>\n",
       "            <tr>\n",
       "                        <th id=\"T_96930_level0_row1\" class=\"row_heading level0 row1\" >gbc</th>\n",
       "                        <td id=\"T_96930_row1_col0\" class=\"data row1 col0\" >Gradient Boosting Classifier</td>\n",
       "                        <td id=\"T_96930_row1_col1\" class=\"data row1 col1\" >0.8621</td>\n",
       "                        <td id=\"T_96930_row1_col2\" class=\"data row1 col2\" >0.9178</td>\n",
       "                        <td id=\"T_96930_row1_col3\" class=\"data row1 col3\" >0.5981</td>\n",
       "                        <td id=\"T_96930_row1_col4\" class=\"data row1 col4\" >0.7931</td>\n",
       "                        <td id=\"T_96930_row1_col5\" class=\"data row1 col5\" >0.6818</td>\n",
       "                        <td id=\"T_96930_row1_col6\" class=\"data row1 col6\" >0.5960</td>\n",
       "                        <td id=\"T_96930_row1_col7\" class=\"data row1 col7\" >0.6057</td>\n",
       "                        <td id=\"T_96930_row1_col8\" class=\"data row1 col8\" >0.8260</td>\n",
       "            </tr>\n",
       "            <tr>\n",
       "                        <th id=\"T_96930_level0_row2\" class=\"row_heading level0 row2\" >ada</th>\n",
       "                        <td id=\"T_96930_row2_col0\" class=\"data row2 col0\" >Ada Boost Classifier</td>\n",
       "                        <td id=\"T_96930_row2_col1\" class=\"data row2 col1\" >0.8567</td>\n",
       "                        <td id=\"T_96930_row2_col2\" class=\"data row2 col2\" >0.9114</td>\n",
       "                        <td id=\"T_96930_row2_col3\" class=\"data row2 col3\" >0.6050</td>\n",
       "                        <td id=\"T_96930_row2_col4\" class=\"data row2 col4\" >0.7660</td>\n",
       "                        <td id=\"T_96930_row2_col5\" class=\"data row2 col5\" >0.6759</td>\n",
       "                        <td id=\"T_96930_row2_col6\" class=\"data row2 col6\" >0.5856</td>\n",
       "                        <td id=\"T_96930_row2_col7\" class=\"data row2 col7\" >0.5924</td>\n",
       "                        <td id=\"T_96930_row2_col8\" class=\"data row2 col8\" >0.2270</td>\n",
       "            </tr>\n",
       "            <tr>\n",
       "                        <th id=\"T_96930_level0_row3\" class=\"row_heading level0 row3\" >lr</th>\n",
       "                        <td id=\"T_96930_row3_col0\" class=\"data row3 col0\" >Logistic Regression</td>\n",
       "                        <td id=\"T_96930_row3_col1\" class=\"data row3 col1\" >0.8463</td>\n",
       "                        <td id=\"T_96930_row3_col2\" class=\"data row3 col2\" >0.9005</td>\n",
       "                        <td id=\"T_96930_row3_col3\" class=\"data row3 col3\" >0.5938</td>\n",
       "                        <td id=\"T_96930_row3_col4\" class=\"data row3 col4\" >0.7341</td>\n",
       "                        <td id=\"T_96930_row3_col5\" class=\"data row3 col5\" >0.6562</td>\n",
       "                        <td id=\"T_96930_row3_col6\" class=\"data row3 col6\" >0.5587</td>\n",
       "                        <td id=\"T_96930_row3_col7\" class=\"data row3 col7\" >0.5641</td>\n",
       "                        <td id=\"T_96930_row3_col8\" class=\"data row3 col8\" >2.8630</td>\n",
       "            </tr>\n",
       "            <tr>\n",
       "                        <th id=\"T_96930_level0_row4\" class=\"row_heading level0 row4\" >rf</th>\n",
       "                        <td id=\"T_96930_row4_col0\" class=\"data row4 col0\" >Random Forest Classifier</td>\n",
       "                        <td id=\"T_96930_row4_col1\" class=\"data row4 col1\" >0.8433</td>\n",
       "                        <td id=\"T_96930_row4_col2\" class=\"data row4 col2\" >0.8873</td>\n",
       "                        <td id=\"T_96930_row4_col3\" class=\"data row4 col3\" >0.6147</td>\n",
       "                        <td id=\"T_96930_row4_col4\" class=\"data row4 col4\" >0.7119</td>\n",
       "                        <td id=\"T_96930_row4_col5\" class=\"data row4 col5\" >0.6597</td>\n",
       "                        <td id=\"T_96930_row4_col6\" class=\"data row4 col6\" >0.5586</td>\n",
       "                        <td id=\"T_96930_row4_col7\" class=\"data row4 col7\" >0.5612</td>\n",
       "                        <td id=\"T_96930_row4_col8\" class=\"data row4 col8\" >0.7450</td>\n",
       "            </tr>\n",
       "            <tr>\n",
       "                        <th id=\"T_96930_level0_row5\" class=\"row_heading level0 row5\" >knn</th>\n",
       "                        <td id=\"T_96930_row5_col0\" class=\"data row5 col0\" >K Neighbors Classifier</td>\n",
       "                        <td id=\"T_96930_row5_col1\" class=\"data row5 col1\" >0.8422</td>\n",
       "                        <td id=\"T_96930_row5_col2\" class=\"data row5 col2\" >0.8736</td>\n",
       "                        <td id=\"T_96930_row5_col3\" class=\"data row5 col3\" >0.6348</td>\n",
       "                        <td id=\"T_96930_row5_col4\" class=\"data row5 col4\" >0.6993</td>\n",
       "                        <td id=\"T_96930_row5_col5\" class=\"data row5 col5\" >0.6654</td>\n",
       "                        <td id=\"T_96930_row5_col6\" class=\"data row5 col6\" >0.5625</td>\n",
       "                        <td id=\"T_96930_row5_col7\" class=\"data row5 col7\" >0.5637</td>\n",
       "                        <td id=\"T_96930_row5_col8\" class=\"data row5 col8\" >1.3140</td>\n",
       "            </tr>\n",
       "            <tr>\n",
       "                        <th id=\"T_96930_level0_row6\" class=\"row_heading level0 row6\" >lda</th>\n",
       "                        <td id=\"T_96930_row6_col0\" class=\"data row6 col0\" >Linear Discriminant Analysis</td>\n",
       "                        <td id=\"T_96930_row6_col1\" class=\"data row6 col1\" >0.8366</td>\n",
       "                        <td id=\"T_96930_row6_col2\" class=\"data row6 col2\" >0.8884</td>\n",
       "                        <td id=\"T_96930_row6_col3\" class=\"data row6 col3\" >0.5598</td>\n",
       "                        <td id=\"T_96930_row6_col4\" class=\"data row6 col4\" >0.7173</td>\n",
       "                        <td id=\"T_96930_row6_col5\" class=\"data row6 col5\" >0.6285</td>\n",
       "                        <td id=\"T_96930_row6_col6\" class=\"data row6 col6\" >0.5258</td>\n",
       "                        <td id=\"T_96930_row6_col7\" class=\"data row6 col7\" >0.5326</td>\n",
       "                        <td id=\"T_96930_row6_col8\" class=\"data row6 col8\" >0.3340</td>\n",
       "            </tr>\n",
       "            <tr>\n",
       "                        <th id=\"T_96930_level0_row7\" class=\"row_heading level0 row7\" >ridge</th>\n",
       "                        <td id=\"T_96930_row7_col0\" class=\"data row7 col0\" >Ridge Classifier</td>\n",
       "                        <td id=\"T_96930_row7_col1\" class=\"data row7 col1\" >0.8353</td>\n",
       "                        <td id=\"T_96930_row7_col2\" class=\"data row7 col2\" >0.0000</td>\n",
       "                        <td id=\"T_96930_row7_col3\" class=\"data row7 col3\" >0.5043</td>\n",
       "                        <td id=\"T_96930_row7_col4\" class=\"data row7 col4\" >0.7476</td>\n",
       "                        <td id=\"T_96930_row7_col5\" class=\"data row7 col5\" >0.6020</td>\n",
       "                        <td id=\"T_96930_row7_col6\" class=\"data row7 col6\" >0.5031</td>\n",
       "                        <td id=\"T_96930_row7_col7\" class=\"data row7 col7\" >0.5188</td>\n",
       "                        <td id=\"T_96930_row7_col8\" class=\"data row7 col8\" >0.0400</td>\n",
       "            </tr>\n",
       "            <tr>\n",
       "                        <th id=\"T_96930_level0_row8\" class=\"row_heading level0 row8\" >et</th>\n",
       "                        <td id=\"T_96930_row8_col0\" class=\"data row8 col0\" >Extra Trees Classifier</td>\n",
       "                        <td id=\"T_96930_row8_col1\" class=\"data row8 col1\" >0.8227</td>\n",
       "                        <td id=\"T_96930_row8_col2\" class=\"data row8 col2\" >0.8439</td>\n",
       "                        <td id=\"T_96930_row8_col3\" class=\"data row8 col3\" >0.5866</td>\n",
       "                        <td id=\"T_96930_row8_col4\" class=\"data row8 col4\" >0.6588</td>\n",
       "                        <td id=\"T_96930_row8_col5\" class=\"data row8 col5\" >0.6206</td>\n",
       "                        <td id=\"T_96930_row8_col6\" class=\"data row8 col6\" >0.5055</td>\n",
       "                        <td id=\"T_96930_row8_col7\" class=\"data row8 col7\" >0.5069</td>\n",
       "                        <td id=\"T_96930_row8_col8\" class=\"data row8 col8\" >1.1040</td>\n",
       "            </tr>\n",
       "            <tr>\n",
       "                        <th id=\"T_96930_level0_row9\" class=\"row_heading level0 row9\" >dt</th>\n",
       "                        <td id=\"T_96930_row9_col0\" class=\"data row9 col0\" >Decision Tree Classifier</td>\n",
       "                        <td id=\"T_96930_row9_col1\" class=\"data row9 col1\" >0.8140</td>\n",
       "                        <td id=\"T_96930_row9_col2\" class=\"data row9 col2\" >0.7680</td>\n",
       "                        <td id=\"T_96930_row9_col3\" class=\"data row9 col3\" >0.6065</td>\n",
       "                        <td id=\"T_96930_row9_col4\" class=\"data row9 col4\" >0.6281</td>\n",
       "                        <td id=\"T_96930_row9_col5\" class=\"data row9 col5\" >0.6171</td>\n",
       "                        <td id=\"T_96930_row9_col6\" class=\"data row9 col6\" >0.4943</td>\n",
       "                        <td id=\"T_96930_row9_col7\" class=\"data row9 col7\" >0.4945</td>\n",
       "                        <td id=\"T_96930_row9_col8\" class=\"data row9 col8\" >0.0870</td>\n",
       "            </tr>\n",
       "            <tr>\n",
       "                        <th id=\"T_96930_level0_row10\" class=\"row_heading level0 row10\" >nb</th>\n",
       "                        <td id=\"T_96930_row10_col0\" class=\"data row10 col0\" >Naive Bayes</td>\n",
       "                        <td id=\"T_96930_row10_col1\" class=\"data row10 col1\" >0.8093</td>\n",
       "                        <td id=\"T_96930_row10_col2\" class=\"data row10 col2\" >0.8921</td>\n",
       "                        <td id=\"T_96930_row10_col3\" class=\"data row10 col3\" >0.7929</td>\n",
       "                        <td id=\"T_96930_row10_col4\" class=\"data row10 col4\" >0.5842</td>\n",
       "                        <td id=\"T_96930_row10_col5\" class=\"data row10 col5\" >0.6726</td>\n",
       "                        <td id=\"T_96930_row10_col6\" class=\"data row10 col6\" >0.5424</td>\n",
       "                        <td id=\"T_96930_row10_col7\" class=\"data row10 col7\" >0.5551</td>\n",
       "                        <td id=\"T_96930_row10_col8\" class=\"data row10 col8\" >0.0530</td>\n",
       "            </tr>\n",
       "            <tr>\n",
       "                        <th id=\"T_96930_level0_row11\" class=\"row_heading level0 row11\" >svm</th>\n",
       "                        <td id=\"T_96930_row11_col0\" class=\"data row11 col0\" >SVM - Linear Kernel</td>\n",
       "                        <td id=\"T_96930_row11_col1\" class=\"data row11 col1\" >0.7824</td>\n",
       "                        <td id=\"T_96930_row11_col2\" class=\"data row11 col2\" >0.0000</td>\n",
       "                        <td id=\"T_96930_row11_col3\" class=\"data row11 col3\" >0.6473</td>\n",
       "                        <td id=\"T_96930_row11_col4\" class=\"data row11 col4\" >0.5672</td>\n",
       "                        <td id=\"T_96930_row11_col5\" class=\"data row11 col5\" >0.5851</td>\n",
       "                        <td id=\"T_96930_row11_col6\" class=\"data row11 col6\" >0.4429</td>\n",
       "                        <td id=\"T_96930_row11_col7\" class=\"data row11 col7\" >0.4594</td>\n",
       "                        <td id=\"T_96930_row11_col8\" class=\"data row11 col8\" >0.0880</td>\n",
       "            </tr>\n",
       "            <tr>\n",
       "                        <th id=\"T_96930_level0_row12\" class=\"row_heading level0 row12\" >qda</th>\n",
       "                        <td id=\"T_96930_row12_col0\" class=\"data row12 col0\" >Quadratic Discriminant Analysis</td>\n",
       "                        <td id=\"T_96930_row12_col1\" class=\"data row12 col1\" >0.2486</td>\n",
       "                        <td id=\"T_96930_row12_col2\" class=\"data row12 col2\" >0.5008</td>\n",
       "                        <td id=\"T_96930_row12_col3\" class=\"data row12 col3\" >0.9995</td>\n",
       "                        <td id=\"T_96930_row12_col4\" class=\"data row12 col4\" >0.2474</td>\n",
       "                        <td id=\"T_96930_row12_col5\" class=\"data row12 col5\" >0.3967</td>\n",
       "                        <td id=\"T_96930_row12_col6\" class=\"data row12 col6\" >0.0008</td>\n",
       "                        <td id=\"T_96930_row12_col7\" class=\"data row12 col7\" >0.0152</td>\n",
       "                        <td id=\"T_96930_row12_col8\" class=\"data row12 col8\" >0.2910</td>\n",
       "            </tr>\n",
       "    </tbody></table>"
      ],
      "text/plain": [
       "<pandas.io.formats.style.Styler at 0x1742e0332b0>"
      ]
     },
     "metadata": {},
     "output_type": "display_data"
    },
    {
     "data": {
      "text/plain": [
       "LGBMClassifier(boosting_type='gbdt', class_weight=None, colsample_bytree=1.0,\n",
       "               importance_type='split', learning_rate=0.1, max_depth=-1,\n",
       "               min_child_samples=20, min_child_weight=0.001, min_split_gain=0.0,\n",
       "               n_estimators=100, n_jobs=-1, num_leaves=31, objective=None,\n",
       "               random_state=4076, reg_alpha=0.0, reg_lambda=0.0, silent=True,\n",
       "               subsample=1.0, subsample_for_bin=200000, subsample_freq=0)"
      ]
     },
     "execution_count": 7,
     "metadata": {},
     "output_type": "execute_result"
    }
   ],
   "source": [
    "compare_models()"
   ]
  },
  {
   "cell_type": "code",
   "execution_count": 9,
   "metadata": {},
   "outputs": [
    {
     "data": {
      "text/html": [
       "<style  type=\"text/css\" >\n",
       "#T_27d1d_row10_col0,#T_27d1d_row10_col1,#T_27d1d_row10_col2,#T_27d1d_row10_col3,#T_27d1d_row10_col4,#T_27d1d_row10_col5,#T_27d1d_row10_col6{\n",
       "            background:  yellow;\n",
       "        }</style><table id=\"T_27d1d_\" ><thead>    <tr>        <th class=\"blank level0\" ></th>        <th class=\"col_heading level0 col0\" >Accuracy</th>        <th class=\"col_heading level0 col1\" >AUC</th>        <th class=\"col_heading level0 col2\" >Recall</th>        <th class=\"col_heading level0 col3\" >Prec.</th>        <th class=\"col_heading level0 col4\" >F1</th>        <th class=\"col_heading level0 col5\" >Kappa</th>        <th class=\"col_heading level0 col6\" >MCC</th>    </tr></thead><tbody>\n",
       "                <tr>\n",
       "                        <th id=\"T_27d1d_level0_row0\" class=\"row_heading level0 row0\" >0</th>\n",
       "                        <td id=\"T_27d1d_row0_col0\" class=\"data row0 col0\" >0.8645</td>\n",
       "                        <td id=\"T_27d1d_row0_col1\" class=\"data row0 col1\" >0.9223</td>\n",
       "                        <td id=\"T_27d1d_row0_col2\" class=\"data row0 col2\" >0.6407</td>\n",
       "                        <td id=\"T_27d1d_row0_col3\" class=\"data row0 col3\" >0.7720</td>\n",
       "                        <td id=\"T_27d1d_row0_col4\" class=\"data row0 col4\" >0.7002</td>\n",
       "                        <td id=\"T_27d1d_row0_col5\" class=\"data row0 col5\" >0.6137</td>\n",
       "                        <td id=\"T_27d1d_row0_col6\" class=\"data row0 col6\" >0.6181</td>\n",
       "            </tr>\n",
       "            <tr>\n",
       "                        <th id=\"T_27d1d_level0_row1\" class=\"row_heading level0 row1\" >1</th>\n",
       "                        <td id=\"T_27d1d_row1_col0\" class=\"data row1 col0\" >0.8721</td>\n",
       "                        <td id=\"T_27d1d_row1_col1\" class=\"data row1 col1\" >0.9215</td>\n",
       "                        <td id=\"T_27d1d_row1_col2\" class=\"data row1 col2\" >0.6624</td>\n",
       "                        <td id=\"T_27d1d_row1_col3\" class=\"data row1 col3\" >0.7860</td>\n",
       "                        <td id=\"T_27d1d_row1_col4\" class=\"data row1 col4\" >0.7189</td>\n",
       "                        <td id=\"T_27d1d_row1_col5\" class=\"data row1 col5\" >0.6369</td>\n",
       "                        <td id=\"T_27d1d_row1_col6\" class=\"data row1 col6\" >0.6408</td>\n",
       "            </tr>\n",
       "            <tr>\n",
       "                        <th id=\"T_27d1d_level0_row2\" class=\"row_heading level0 row2\" >2</th>\n",
       "                        <td id=\"T_27d1d_row2_col0\" class=\"data row2 col0\" >0.8689</td>\n",
       "                        <td id=\"T_27d1d_row2_col1\" class=\"data row2 col1\" >0.9284</td>\n",
       "                        <td id=\"T_27d1d_row2_col2\" class=\"data row2 col2\" >0.6654</td>\n",
       "                        <td id=\"T_27d1d_row2_col3\" class=\"data row2 col3\" >0.7730</td>\n",
       "                        <td id=\"T_27d1d_row2_col4\" class=\"data row2 col4\" >0.7152</td>\n",
       "                        <td id=\"T_27d1d_row2_col5\" class=\"data row2 col5\" >0.6307</td>\n",
       "                        <td id=\"T_27d1d_row2_col6\" class=\"data row2 col6\" >0.6336</td>\n",
       "            </tr>\n",
       "            <tr>\n",
       "                        <th id=\"T_27d1d_level0_row3\" class=\"row_heading level0 row3\" >3</th>\n",
       "                        <td id=\"T_27d1d_row3_col0\" class=\"data row3 col0\" >0.8724</td>\n",
       "                        <td id=\"T_27d1d_row3_col1\" class=\"data row3 col1\" >0.9327</td>\n",
       "                        <td id=\"T_27d1d_row3_col2\" class=\"data row3 col2\" >0.6718</td>\n",
       "                        <td id=\"T_27d1d_row3_col3\" class=\"data row3 col3\" >0.7816</td>\n",
       "                        <td id=\"T_27d1d_row3_col4\" class=\"data row3 col4\" >0.7225</td>\n",
       "                        <td id=\"T_27d1d_row3_col5\" class=\"data row3 col5\" >0.6403</td>\n",
       "                        <td id=\"T_27d1d_row3_col6\" class=\"data row3 col6\" >0.6434</td>\n",
       "            </tr>\n",
       "            <tr>\n",
       "                        <th id=\"T_27d1d_level0_row4\" class=\"row_heading level0 row4\" >4</th>\n",
       "                        <td id=\"T_27d1d_row4_col0\" class=\"data row4 col0\" >0.8727</td>\n",
       "                        <td id=\"T_27d1d_row4_col1\" class=\"data row4 col1\" >0.9218</td>\n",
       "                        <td id=\"T_27d1d_row4_col2\" class=\"data row4 col2\" >0.6564</td>\n",
       "                        <td id=\"T_27d1d_row4_col3\" class=\"data row4 col3\" >0.7932</td>\n",
       "                        <td id=\"T_27d1d_row4_col4\" class=\"data row4 col4\" >0.7184</td>\n",
       "                        <td id=\"T_27d1d_row4_col5\" class=\"data row4 col5\" >0.6371</td>\n",
       "                        <td id=\"T_27d1d_row4_col6\" class=\"data row4 col6\" >0.6419</td>\n",
       "            </tr>\n",
       "            <tr>\n",
       "                        <th id=\"T_27d1d_level0_row5\" class=\"row_heading level0 row5\" >5</th>\n",
       "                        <td id=\"T_27d1d_row5_col0\" class=\"data row5 col0\" >0.8660</td>\n",
       "                        <td id=\"T_27d1d_row5_col1\" class=\"data row5 col1\" >0.9179</td>\n",
       "                        <td id=\"T_27d1d_row5_col2\" class=\"data row5 col2\" >0.6304</td>\n",
       "                        <td id=\"T_27d1d_row5_col3\" class=\"data row5 col3\" >0.7850</td>\n",
       "                        <td id=\"T_27d1d_row5_col4\" class=\"data row5 col4\" >0.6993</td>\n",
       "                        <td id=\"T_27d1d_row5_col5\" class=\"data row5 col5\" >0.6144</td>\n",
       "                        <td id=\"T_27d1d_row5_col6\" class=\"data row5 col6\" >0.6205</td>\n",
       "            </tr>\n",
       "            <tr>\n",
       "                        <th id=\"T_27d1d_level0_row6\" class=\"row_heading level0 row6\" >6</th>\n",
       "                        <td id=\"T_27d1d_row6_col0\" class=\"data row6 col0\" >0.8727</td>\n",
       "                        <td id=\"T_27d1d_row6_col1\" class=\"data row6 col1\" >0.9289</td>\n",
       "                        <td id=\"T_27d1d_row6_col2\" class=\"data row6 col2\" >0.6458</td>\n",
       "                        <td id=\"T_27d1d_row6_col3\" class=\"data row6 col3\" >0.8003</td>\n",
       "                        <td id=\"T_27d1d_row6_col4\" class=\"data row6 col4\" >0.7148</td>\n",
       "                        <td id=\"T_27d1d_row6_col5\" class=\"data row6 col5\" >0.6340</td>\n",
       "                        <td id=\"T_27d1d_row6_col6\" class=\"data row6 col6\" >0.6401</td>\n",
       "            </tr>\n",
       "            <tr>\n",
       "                        <th id=\"T_27d1d_level0_row7\" class=\"row_heading level0 row7\" >7</th>\n",
       "                        <td id=\"T_27d1d_row7_col0\" class=\"data row7 col0\" >0.8667</td>\n",
       "                        <td id=\"T_27d1d_row7_col1\" class=\"data row7 col1\" >0.9256</td>\n",
       "                        <td id=\"T_27d1d_row7_col2\" class=\"data row7 col2\" >0.6355</td>\n",
       "                        <td id=\"T_27d1d_row7_col3\" class=\"data row7 col3\" >0.7839</td>\n",
       "                        <td id=\"T_27d1d_row7_col4\" class=\"data row7 col4\" >0.7020</td>\n",
       "                        <td id=\"T_27d1d_row7_col5\" class=\"data row7 col5\" >0.6173</td>\n",
       "                        <td id=\"T_27d1d_row7_col6\" class=\"data row7 col6\" >0.6229</td>\n",
       "            </tr>\n",
       "            <tr>\n",
       "                        <th id=\"T_27d1d_level0_row8\" class=\"row_heading level0 row8\" >8</th>\n",
       "                        <td id=\"T_27d1d_row8_col0\" class=\"data row8 col0\" >0.8670</td>\n",
       "                        <td id=\"T_27d1d_row8_col1\" class=\"data row8 col1\" >0.9223</td>\n",
       "                        <td id=\"T_27d1d_row8_col2\" class=\"data row8 col2\" >0.6483</td>\n",
       "                        <td id=\"T_27d1d_row8_col3\" class=\"data row8 col3\" >0.7764</td>\n",
       "                        <td id=\"T_27d1d_row8_col4\" class=\"data row8 col4\" >0.7066</td>\n",
       "                        <td id=\"T_27d1d_row8_col5\" class=\"data row8 col5\" >0.6215</td>\n",
       "                        <td id=\"T_27d1d_row8_col6\" class=\"data row8 col6\" >0.6257</td>\n",
       "            </tr>\n",
       "            <tr>\n",
       "                        <th id=\"T_27d1d_level0_row9\" class=\"row_heading level0 row9\" >9</th>\n",
       "                        <td id=\"T_27d1d_row9_col0\" class=\"data row9 col0\" >0.8746</td>\n",
       "                        <td id=\"T_27d1d_row9_col1\" class=\"data row9 col1\" >0.9326</td>\n",
       "                        <td id=\"T_27d1d_row9_col2\" class=\"data row9 col2\" >0.6675</td>\n",
       "                        <td id=\"T_27d1d_row9_col3\" class=\"data row9 col3\" >0.7921</td>\n",
       "                        <td id=\"T_27d1d_row9_col4\" class=\"data row9 col4\" >0.7245</td>\n",
       "                        <td id=\"T_27d1d_row9_col5\" class=\"data row9 col5\" >0.6441</td>\n",
       "                        <td id=\"T_27d1d_row9_col6\" class=\"data row9 col6\" >0.6480</td>\n",
       "            </tr>\n",
       "            <tr>\n",
       "                        <th id=\"T_27d1d_level0_row10\" class=\"row_heading level0 row10\" >Mean</th>\n",
       "                        <td id=\"T_27d1d_row10_col0\" class=\"data row10 col0\" >0.8698</td>\n",
       "                        <td id=\"T_27d1d_row10_col1\" class=\"data row10 col1\" >0.9254</td>\n",
       "                        <td id=\"T_27d1d_row10_col2\" class=\"data row10 col2\" >0.6524</td>\n",
       "                        <td id=\"T_27d1d_row10_col3\" class=\"data row10 col3\" >0.7844</td>\n",
       "                        <td id=\"T_27d1d_row10_col4\" class=\"data row10 col4\" >0.7122</td>\n",
       "                        <td id=\"T_27d1d_row10_col5\" class=\"data row10 col5\" >0.6290</td>\n",
       "                        <td id=\"T_27d1d_row10_col6\" class=\"data row10 col6\" >0.6335</td>\n",
       "            </tr>\n",
       "            <tr>\n",
       "                        <th id=\"T_27d1d_level0_row11\" class=\"row_heading level0 row11\" >SD</th>\n",
       "                        <td id=\"T_27d1d_row11_col0\" class=\"data row11 col0\" >0.0033</td>\n",
       "                        <td id=\"T_27d1d_row11_col1\" class=\"data row11 col1\" >0.0048</td>\n",
       "                        <td id=\"T_27d1d_row11_col2\" class=\"data row11 col2\" >0.0136</td>\n",
       "                        <td id=\"T_27d1d_row11_col3\" class=\"data row11 col3\" >0.0087</td>\n",
       "                        <td id=\"T_27d1d_row11_col4\" class=\"data row11 col4\" >0.0090</td>\n",
       "                        <td id=\"T_27d1d_row11_col5\" class=\"data row11 col5\" >0.0107</td>\n",
       "                        <td id=\"T_27d1d_row11_col6\" class=\"data row11 col6\" >0.0103</td>\n",
       "            </tr>\n",
       "    </tbody></table>"
      ],
      "text/plain": [
       "<pandas.io.formats.style.Styler at 0x1742ee79c70>"
      ]
     },
     "metadata": {},
     "output_type": "display_data"
    }
   ],
   "source": [
    "lgbm = create_model('lightgbm')"
   ]
  },
  {
   "cell_type": "code",
   "execution_count": 10,
   "metadata": {},
   "outputs": [
    {
     "data": {
      "image/png": "[encoded data removed]",
      "text/plain": [
       "<Figure size 576x396 with 1 Axes>"
      ]
     },
     "metadata": {},
     "output_type": "display_data"
    }
   ],
   "source": [
    "plot_model(lgbm)"
   ]
  },
  {
   "cell_type": "code",
   "execution_count": 13,
   "metadata": {},
   "outputs": [
    {
     "data": {
      "image/png": "[encoded data removed]",
      "text/plain": [
       "<Figure size 576x684 with 2 Axes>"
      ]
     },
     "metadata": {},
     "output_type": "display_data"
    }
   ],
   "source": [
    "interpret_model(lgbm)"
   ]
  },
  {
   "cell_type": "markdown",
   "metadata": {},
   "source": [
    "### Question 8 - Effects of Feature Selection\n",
    "\n",
    "* How does the final model's F-score and accuracy score on the reduced data using only five features compare to those same scores when all features are used?\n",
    "* If training time was a factor, would you consider using the reduced data as your training set?"
   ]
  },
  {
   "cell_type": "markdown",
   "metadata": {},
   "source": [
    "**Answer:**\n",
    "\n",
    "On the reduced data, model accuracy is about 2.3% lower and f-score 3.8% lower. However, this is not a big reduction as the cum. wt of these 5 features has about 80% impact of the final outcome. \n",
    "\n",
    "\n",
    "\n",
    "If training time is a factor, a reduced dataset will definitely speed up the word at small expense of accuracy and f-score. A reasonable model can still be obtained.\n",
    "\n"
   ]
  },
  {
   "cell_type": "markdown",
   "metadata": {},
   "source": [
    "> **Note**: Once you have completed all of the code implementations and successfully answered each question above, you may finalize your work by exporting the iPython Notebook as an HTML document. You can do this by using the menu above and navigating to  \n",
    "**File -> Download as -> HTML (.html)**. Include the finished document along with this notebook as your submission."
   ]
  }
 ],
 "metadata": {
  "kernelspec": {
   "display_name": "Python 3 (ipykernel)",
   "language": "python",
   "name": "python3"
  },
  "language_info": {
   "codemirror_mode": {
    "name": "ipython",
    "version": 3
   },
   "file_extension": ".py",
   "mimetype": "text/x-python",
   "name": "python",
   "nbconvert_exporter": "python",
   "pygments_lexer": "ipython3",
   "version": "3.8.8"
  }
 },
 "nbformat": 4,
 "nbformat_minor": 1
}
